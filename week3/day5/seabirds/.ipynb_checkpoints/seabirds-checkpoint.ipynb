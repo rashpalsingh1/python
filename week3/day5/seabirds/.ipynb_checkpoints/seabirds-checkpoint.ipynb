{
 "cells": [
  {
   "cell_type": "code",
   "execution_count": 1,
   "metadata": {},
   "outputs": [],
   "source": [
    "import pandas as pd"
   ]
  },
  {
   "cell_type": "code",
   "execution_count": 2,
   "metadata": {},
   "outputs": [],
   "source": [
    "import numpy as np"
   ]
  },
  {
   "cell_type": "code",
   "execution_count": 4,
   "metadata": {},
   "outputs": [],
   "source": [
    "import janitor"
   ]
  },
  {
   "cell_type": "code",
   "execution_count": 11,
   "metadata": {},
   "outputs": [],
   "source": [
    "ships = pd.read_excel(\"seabirds.xls\", sheet_name=\"Ship data by record ID\")"
   ]
  },
  {
   "cell_type": "code",
   "execution_count": 58,
   "metadata": {},
   "outputs": [],
   "source": [
    "birds = pd.read_excel(\"seabirds.xls\", sheet_name=\"Bird data by record ID\")"
   ]
  },
  {
   "cell_type": "code",
   "execution_count": 59,
   "metadata": {},
   "outputs": [],
   "source": [
    "birds = birds.clean_names()"
   ]
  },
  {
   "cell_type": "code",
   "execution_count": 100,
   "metadata": {},
   "outputs": [],
   "source": [
    "ships = ships.clean_names()"
   ]
  },
  {
   "cell_type": "code",
   "execution_count": 60,
   "metadata": {},
   "outputs": [
    {
     "name": "stdout",
     "output_type": "stream",
     "text": [
      "<class 'pandas.core.frame.DataFrame'>\n",
      "RangeIndex: 49019 entries, 0 to 49018\n",
      "Data columns (total 26 columns):\n",
      " #   Column                                                  Non-Null Count  Dtype  \n",
      "---  ------                                                  --------------  -----  \n",
      " 0   record                                                  49019 non-null  int64  \n",
      " 1   record_id                                               49019 non-null  int64  \n",
      " 2   species_common_name_taxon_[age_sex_plumage_phase]_      49019 non-null  object \n",
      " 3   species_scientific_name_taxon_[age_sex_plumage_phase]_  47918 non-null  object \n",
      " 4   species_abbreviation                                    48328 non-null  object \n",
      " 5   age                                                     10182 non-null  object \n",
      " 6   wanplum                                                 9575 non-null   float64\n",
      " 7   plphase                                                 81 non-null     object \n",
      " 8   sex                                                     4 non-null      object \n",
      " 9   count                                                   46320 non-null  float64\n",
      " 10  nfeed                                                   22571 non-null  float64\n",
      " 11  ocfeed                                                  48328 non-null  object \n",
      " 12  nsow                                                    22571 non-null  float64\n",
      " 13  ocsow                                                   48328 non-null  object \n",
      " 14  nsoice                                                  22571 non-null  float64\n",
      " 15  ocsoice                                                 48328 non-null  object \n",
      " 16  ocsoshp                                                 48328 non-null  object \n",
      " 17  ocinhd                                                  48328 non-null  object \n",
      " 18  nflyp                                                   22571 non-null  float64\n",
      " 19  ocflyp                                                  48328 non-null  object \n",
      " 20  nacc                                                    22571 non-null  float64\n",
      " 21  ocacc                                                   48327 non-null  object \n",
      " 22  nfoll                                                   22571 non-null  float64\n",
      " 23  ocfol                                                   48328 non-null  object \n",
      " 24  ocmoult                                                 48328 non-null  object \n",
      " 25  ocnatfed                                                48328 non-null  object \n",
      "dtypes: float64(8), int64(2), object(16)\n",
      "memory usage: 9.7+ MB\n"
     ]
    }
   ],
   "source": [
    "birds.info()"
   ]
  },
  {
   "cell_type": "code",
   "execution_count": 104,
   "metadata": {},
   "outputs": [
    {
     "name": "stdout",
     "output_type": "stream",
     "text": [
      "<class 'pandas.core.frame.DataFrame'>\n",
      "RangeIndex: 12310 entries, 0 to 12309\n",
      "Data columns (total 27 columns):\n",
      " #   Column     Non-Null Count  Dtype         \n",
      "---  ------     --------------  -----         \n",
      " 0   record     12310 non-null  int64         \n",
      " 1   record_id  12310 non-null  int64         \n",
      " 2   date       12310 non-null  datetime64[ns]\n",
      " 3   time       12308 non-null  object        \n",
      " 4   lat        12300 non-null  float64       \n",
      " 5   long       12299 non-null  float64       \n",
      " 6   ew         12299 non-null  object        \n",
      " 7   sact       12310 non-null  int64         \n",
      " 8   speed      7832 non-null   float64       \n",
      " 9   sdir       1255 non-null   float64       \n",
      " 10  cld        7523 non-null   float64       \n",
      " 11  prec       7507 non-null   float64       \n",
      " 12  wspeed     7622 non-null   float64       \n",
      " 13  wdir       1292 non-null   float64       \n",
      " 14  atmp       1036 non-null   float64       \n",
      " 15  aprs       770 non-null    float64       \n",
      " 16  sste       7559 non-null   float64       \n",
      " 17  stmp       685 non-null    float64       \n",
      " 18  sal        1 non-null      float64       \n",
      " 19  depth      130 non-null    float64       \n",
      " 20  obs        12310 non-null  object        \n",
      " 21  csmeth     12310 non-null  object        \n",
      " 22  month      12310 non-null  int64         \n",
      " 23  seasn      12310 non-null  object        \n",
      " 24  long360    12299 non-null  float64       \n",
      " 25  latcell    12300 non-null  float64       \n",
      " 26  longecell  12299 non-null  float64       \n",
      "dtypes: datetime64[ns](1), float64(17), int64(4), object(5)\n",
      "memory usage: 2.5+ MB\n"
     ]
    }
   ],
   "source": [
    "ships.info()"
   ]
  },
  {
   "cell_type": "code",
   "execution_count": 61,
   "metadata": {},
   "outputs": [],
   "source": [
    "birds = birds.drop(columns = [\"age\", \"wanplum\", \"plphase\", \"sex\"])"
   ]
  },
  {
   "cell_type": "code",
   "execution_count": 62,
   "metadata": {},
   "outputs": [
    {
     "name": "stdout",
     "output_type": "stream",
     "text": [
      "<class 'pandas.core.frame.DataFrame'>\n",
      "RangeIndex: 49019 entries, 0 to 49018\n",
      "Data columns (total 22 columns):\n",
      " #   Column                                                  Non-Null Count  Dtype  \n",
      "---  ------                                                  --------------  -----  \n",
      " 0   record                                                  49019 non-null  int64  \n",
      " 1   record_id                                               49019 non-null  int64  \n",
      " 2   species_common_name_taxon_[age_sex_plumage_phase]_      49019 non-null  object \n",
      " 3   species_scientific_name_taxon_[age_sex_plumage_phase]_  47918 non-null  object \n",
      " 4   species_abbreviation                                    48328 non-null  object \n",
      " 5   count                                                   46320 non-null  float64\n",
      " 6   nfeed                                                   22571 non-null  float64\n",
      " 7   ocfeed                                                  48328 non-null  object \n",
      " 8   nsow                                                    22571 non-null  float64\n",
      " 9   ocsow                                                   48328 non-null  object \n",
      " 10  nsoice                                                  22571 non-null  float64\n",
      " 11  ocsoice                                                 48328 non-null  object \n",
      " 12  ocsoshp                                                 48328 non-null  object \n",
      " 13  ocinhd                                                  48328 non-null  object \n",
      " 14  nflyp                                                   22571 non-null  float64\n",
      " 15  ocflyp                                                  48328 non-null  object \n",
      " 16  nacc                                                    22571 non-null  float64\n",
      " 17  ocacc                                                   48327 non-null  object \n",
      " 18  nfoll                                                   22571 non-null  float64\n",
      " 19  ocfol                                                   48328 non-null  object \n",
      " 20  ocmoult                                                 48328 non-null  object \n",
      " 21  ocnatfed                                                48328 non-null  object \n",
      "dtypes: float64(7), int64(2), object(13)\n",
      "memory usage: 8.2+ MB\n"
     ]
    }
   ],
   "source": [
    "birds.info()"
   ]
  },
  {
   "cell_type": "code",
   "execution_count": 41,
   "metadata": {},
   "outputs": [],
   "source": [
    "#birds.loc[:, birds.columns.str.contains(\"oc\")] = np.where(birds.loc[:, birds.columns.str.contains(\"oc\")] == \"U\", 0, birds.loc[:, birds.columns.str.contains(\"oc\")] )"
   ]
  },
  {
   "cell_type": "code",
   "execution_count": 42,
   "metadata": {},
   "outputs": [],
   "source": [
    "#birds.loc[:, birds.columns.str.contains(\"oc\")] = np.where(birds.loc[:, birds.columns.str.contains(\"oc\")] == \"Y\", 1, 0)"
   ]
  },
  {
   "cell_type": "code",
   "execution_count": 52,
   "metadata": {},
   "outputs": [],
   "source": [
    "#birds[\"sightings_total\"]= birds.loc[:, birds.columns.str.contains(\"oc\")].sum(axis=1)"
   ]
  },
  {
   "cell_type": "code",
   "execution_count": 65,
   "metadata": {},
   "outputs": [],
   "source": [
    "birds = birds.rename(columns={\"species_common_name_taxon_[age_sex_plumage_phase]_\":\"common_name\",\n",
    "                      \"species_scientific_name_taxon_[age_sex_plumage_phase]_\": \"scientific_name\",})\n",
    "#shorten the name of two columns"
   ]
  },
  {
   "cell_type": "markdown",
   "metadata": {},
   "source": [
    "1) Which bird had the most individual sightings?"
   ]
  },
  {
   "cell_type": "code",
   "execution_count": 87,
   "metadata": {},
   "outputs": [
    {
     "data": {
      "text/html": [
       "<div>\n",
       "<style scoped>\n",
       "    .dataframe tbody tr th:only-of-type {\n",
       "        vertical-align: middle;\n",
       "    }\n",
       "\n",
       "    .dataframe tbody tr th {\n",
       "        vertical-align: top;\n",
       "    }\n",
       "\n",
       "    .dataframe thead th {\n",
       "        text-align: right;\n",
       "    }\n",
       "</style>\n",
       "<table border=\"1\" class=\"dataframe\">\n",
       "  <thead>\n",
       "    <tr style=\"text-align: right;\">\n",
       "      <th></th>\n",
       "      <th>common_name</th>\n",
       "      <th>scientific_name</th>\n",
       "      <th>species_abbreviation</th>\n",
       "      <th>count</th>\n",
       "    </tr>\n",
       "  </thead>\n",
       "  <tbody>\n",
       "    <tr>\n",
       "      <th>0</th>\n",
       "      <td>Wandering albatross sensu lato PL2</td>\n",
       "      <td>Diomedea antipodensis / exulans PL2</td>\n",
       "      <td>DIOANTEXU PL2</td>\n",
       "      <td>3104</td>\n",
       "    </tr>\n",
       "  </tbody>\n",
       "</table>\n",
       "</div>"
      ],
      "text/plain": [
       "                          common_name                      scientific_name  \\\n",
       "0  Wandering albatross sensu lato PL2  Diomedea antipodensis / exulans PL2   \n",
       "\n",
       "  species_abbreviation  count  \n",
       "0        DIOANTEXU PL2   3104  "
      ]
     },
     "execution_count": 87,
     "metadata": {},
     "output_type": "execute_result"
    }
   ],
   "source": [
    "(birds.groupby([\"common_name\", \"scientific_name\", \"species_abbreviation\"]).agg({\"record_id\":\"count\"})\n",
    ".sort_values(by=\"record_id\", ascending=False)).rename(columns={\"record_id\":\"count\"}).reset_index().head(1)"
   ]
  },
  {
   "cell_type": "markdown",
   "metadata": {},
   "source": [
    "2) Which bird had the highest total count?"
   ]
  },
  {
   "cell_type": "code",
   "execution_count": 98,
   "metadata": {},
   "outputs": [
    {
     "data": {
      "text/html": [
       "<div>\n",
       "<style scoped>\n",
       "    .dataframe tbody tr th:only-of-type {\n",
       "        vertical-align: middle;\n",
       "    }\n",
       "\n",
       "    .dataframe tbody tr th {\n",
       "        vertical-align: top;\n",
       "    }\n",
       "\n",
       "    .dataframe thead th {\n",
       "        text-align: right;\n",
       "    }\n",
       "</style>\n",
       "<table border=\"1\" class=\"dataframe\">\n",
       "  <thead>\n",
       "    <tr style=\"text-align: right;\">\n",
       "      <th></th>\n",
       "      <th>common_name</th>\n",
       "      <th>scientific_name</th>\n",
       "      <th>species_abbreviation</th>\n",
       "      <th>count</th>\n",
       "    </tr>\n",
       "  </thead>\n",
       "  <tbody>\n",
       "    <tr>\n",
       "      <th>218</th>\n",
       "      <td>Short-tailed shearwater</td>\n",
       "      <td>Puffinus tenuirostris</td>\n",
       "      <td>PUFTEN</td>\n",
       "      <td>982553.0</td>\n",
       "    </tr>\n",
       "  </tbody>\n",
       "</table>\n",
       "</div>"
      ],
      "text/plain": [
       "                 common_name         scientific_name species_abbreviation  \\\n",
       "218  Short-tailed shearwater  Puffinus tenuirostris                PUFTEN   \n",
       "\n",
       "        count  \n",
       "218  982553.0  "
      ]
     },
     "execution_count": 98,
     "metadata": {},
     "output_type": "execute_result"
    }
   ],
   "source": [
    "(birds.groupby([\"common_name\", \"scientific_name\", \"species_abbreviation\"]).agg({\"count\":\"sum\"})\n",
    ".reset_index().sort_values(by=\"count\", ascending=False).head(1))"
   ]
  },
  {
   "cell_type": "markdown",
   "metadata": {},
   "source": [
    "3) Which bird had the highest total count above a latitude of -30?"
   ]
  },
  {
   "cell_type": "code",
   "execution_count": 103,
   "metadata": {},
   "outputs": [],
   "source": [
    "#need to merge ships and bird info on record_id\n",
    "birds_ship = birds.merge(ships, on=\"record_id\")"
   ]
  },
  {
   "cell_type": "code",
   "execution_count": 107,
   "metadata": {},
   "outputs": [],
   "source": [
    "birds_ship = birds_ship.sort_values(by=\"lat\")"
   ]
  },
  {
   "cell_type": "code",
   "execution_count": 109,
   "metadata": {},
   "outputs": [],
   "source": [
    "birds_ship_lat = birds_ship[birds_ship[\"lat\"]> -30] #filter where lat > -30"
   ]
  },
  {
   "cell_type": "code",
   "execution_count": 112,
   "metadata": {},
   "outputs": [
    {
     "data": {
      "text/html": [
       "<div>\n",
       "<style scoped>\n",
       "    .dataframe tbody tr th:only-of-type {\n",
       "        vertical-align: middle;\n",
       "    }\n",
       "\n",
       "    .dataframe tbody tr th {\n",
       "        vertical-align: top;\n",
       "    }\n",
       "\n",
       "    .dataframe thead th {\n",
       "        text-align: right;\n",
       "    }\n",
       "</style>\n",
       "<table border=\"1\" class=\"dataframe\">\n",
       "  <thead>\n",
       "    <tr style=\"text-align: right;\">\n",
       "      <th></th>\n",
       "      <th>common_name</th>\n",
       "      <th>scientific_name</th>\n",
       "      <th>species_abbreviation</th>\n",
       "      <th>count</th>\n",
       "    </tr>\n",
       "  </thead>\n",
       "  <tbody>\n",
       "    <tr>\n",
       "      <th>25</th>\n",
       "      <td>Wedge-tailed shearwater</td>\n",
       "      <td>Puffinus pacificus</td>\n",
       "      <td>PUFPAC</td>\n",
       "      <td>855.0</td>\n",
       "    </tr>\n",
       "  </tbody>\n",
       "</table>\n",
       "</div>"
      ],
      "text/plain": [
       "                common_name      scientific_name species_abbreviation  count\n",
       "25  Wedge-tailed shearwater  Puffinus pacificus                PUFPAC  855.0"
      ]
     },
     "execution_count": 112,
     "metadata": {},
     "output_type": "execute_result"
    }
   ],
   "source": [
    "(birds_ship_lat.groupby([\"common_name\", \"scientific_name\", \"species_abbreviation\"]).agg({\"count\":\"sum\"})\n",
    ".reset_index().sort_values(by=\"count\", ascending=False).head(1))"
   ]
  },
  {
   "cell_type": "markdown",
   "metadata": {},
   "source": [
    "4) How many different types of birds were only ever seen in groups of 1?"
   ]
  },
  {
   "cell_type": "code",
   "execution_count": 134,
   "metadata": {},
   "outputs": [
    {
     "data": {
      "text/plain": [
       "287"
      ]
     },
     "execution_count": 134,
     "metadata": {},
     "output_type": "execute_result"
    }
   ],
   "source": [
    "(birds[birds[\"count\"] == 1]\n",
    ".groupby([\"common_name\", \"scientific_name\", \"species_abbreviation\"]).agg({\"record_id\":\"count\"}).shape[0])"
   ]
  },
  {
   "cell_type": "markdown",
   "metadata": {},
   "source": [
    "5) How many penguins were seen? (Hint: there are many types of penguin)"
   ]
  },
  {
   "cell_type": "code",
   "execution_count": 137,
   "metadata": {},
   "outputs": [],
   "source": [
    "penguins = birds[birds[\"common_name\"].str.contains(pat=\"penguin\", case=False)] # find the different types of penguin"
   ]
  },
  {
   "cell_type": "code",
   "execution_count": 147,
   "metadata": {},
   "outputs": [
    {
     "data": {
      "text/plain": [
       "158.0"
      ]
     },
     "execution_count": 147,
     "metadata": {},
     "output_type": "execute_result"
    }
   ],
   "source": [
    "penguins[\"count\"].sum() #sum the column"
   ]
  },
  {
   "cell_type": "code",
   "execution_count": null,
   "metadata": {},
   "outputs": [],
   "source": []
  }
 ],
 "metadata": {
  "kernelspec": {
   "display_name": "Python 3",
   "language": "python",
   "name": "python3"
  },
  "language_info": {
   "codemirror_mode": {
    "name": "ipython",
    "version": 3
   },
   "file_extension": ".py",
   "mimetype": "text/x-python",
   "name": "python",
   "nbconvert_exporter": "python",
   "pygments_lexer": "ipython3",
   "version": "3.8.3"
  }
 },
 "nbformat": 4,
 "nbformat_minor": 4
}
