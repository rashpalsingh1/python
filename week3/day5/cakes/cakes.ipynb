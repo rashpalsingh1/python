{
 "cells": [
  {
   "cell_type": "code",
   "execution_count": 1,
   "metadata": {},
   "outputs": [],
   "source": [
    "import pandas as pd"
   ]
  },
  {
   "cell_type": "code",
   "execution_count": 2,
   "metadata": {},
   "outputs": [],
   "source": [
    "import numpy as np"
   ]
  },
  {
   "cell_type": "code",
   "execution_count": 3,
   "metadata": {},
   "outputs": [],
   "source": [
    "import janitor"
   ]
  },
  {
   "cell_type": "code",
   "execution_count": 50,
   "metadata": {},
   "outputs": [],
   "source": [
    "ingredients = pd.read_csv(\"cake_ingredient_code.csv\").clean_names()"
   ]
  },
  {
   "cell_type": "code",
   "execution_count": 51,
   "metadata": {},
   "outputs": [],
   "source": [
    "cakes = pd.read_csv(\"cake-ingredients-1961.csv\").clean_names()"
   ]
  },
  {
   "cell_type": "code",
   "execution_count": 52,
   "metadata": {},
   "outputs": [],
   "source": [
    "cakes = cakes.melt(id_vars=\"cake\", var_name=\"ingredients\", value_name=\"amount\") # get data into tidy format"
   ]
  },
  {
   "cell_type": "code",
   "execution_count": 34,
   "metadata": {},
   "outputs": [
    {
     "data": {
      "text/html": [
       "<div>\n",
       "<style scoped>\n",
       "    .dataframe tbody tr th:only-of-type {\n",
       "        vertical-align: middle;\n",
       "    }\n",
       "\n",
       "    .dataframe tbody tr th {\n",
       "        vertical-align: top;\n",
       "    }\n",
       "\n",
       "    .dataframe thead th {\n",
       "        text-align: right;\n",
       "    }\n",
       "</style>\n",
       "<table border=\"1\" class=\"dataframe\">\n",
       "  <thead>\n",
       "    <tr style=\"text-align: right;\">\n",
       "      <th></th>\n",
       "      <th>cake</th>\n",
       "      <th>ingredients</th>\n",
       "      <th>amount</th>\n",
       "    </tr>\n",
       "  </thead>\n",
       "  <tbody>\n",
       "    <tr>\n",
       "      <th>0</th>\n",
       "      <td>Angel</td>\n",
       "      <td>ae</td>\n",
       "      <td>0.25</td>\n",
       "    </tr>\n",
       "    <tr>\n",
       "      <th>1</th>\n",
       "      <td>Babas au Rhum</td>\n",
       "      <td>ae</td>\n",
       "      <td>NaN</td>\n",
       "    </tr>\n",
       "    <tr>\n",
       "      <th>2</th>\n",
       "      <td>Sweet Chocolate</td>\n",
       "      <td>ae</td>\n",
       "      <td>NaN</td>\n",
       "    </tr>\n",
       "    <tr>\n",
       "      <th>3</th>\n",
       "      <td>Buche de Noel</td>\n",
       "      <td>ae</td>\n",
       "      <td>NaN</td>\n",
       "    </tr>\n",
       "    <tr>\n",
       "      <th>4</th>\n",
       "      <td>Cheesecake</td>\n",
       "      <td>ae</td>\n",
       "      <td>NaN</td>\n",
       "    </tr>\n",
       "    <tr>\n",
       "      <th>...</th>\n",
       "      <td>...</td>\n",
       "      <td>...</td>\n",
       "      <td>...</td>\n",
       "    </tr>\n",
       "    <tr>\n",
       "      <th>607</th>\n",
       "      <td>Strawberry Roll</td>\n",
       "      <td>zh</td>\n",
       "      <td>NaN</td>\n",
       "    </tr>\n",
       "    <tr>\n",
       "      <th>608</th>\n",
       "      <td>Savarin</td>\n",
       "      <td>zh</td>\n",
       "      <td>NaN</td>\n",
       "    </tr>\n",
       "    <tr>\n",
       "      <th>609</th>\n",
       "      <td>Banana Shortcake</td>\n",
       "      <td>zh</td>\n",
       "      <td>NaN</td>\n",
       "    </tr>\n",
       "    <tr>\n",
       "      <th>610</th>\n",
       "      <td>Strawberry Shortcake</td>\n",
       "      <td>zh</td>\n",
       "      <td>NaN</td>\n",
       "    </tr>\n",
       "    <tr>\n",
       "      <th>611</th>\n",
       "      <td>Sponge</td>\n",
       "      <td>zh</td>\n",
       "      <td>NaN</td>\n",
       "    </tr>\n",
       "  </tbody>\n",
       "</table>\n",
       "<p>612 rows × 3 columns</p>\n",
       "</div>"
      ],
      "text/plain": [
       "                      cake ingredients  amount\n",
       "0    Angel                          ae    0.25\n",
       "1    Babas au Rhum                  ae     NaN\n",
       "2    Sweet Chocolate                ae     NaN\n",
       "3    Buche de Noel                  ae     NaN\n",
       "4    Cheesecake                     ae     NaN\n",
       "..                     ...         ...     ...\n",
       "607  Strawberry Roll                zh     NaN\n",
       "608  Savarin                        zh     NaN\n",
       "609  Banana Shortcake               zh     NaN\n",
       "610  Strawberry Shortcake           zh     NaN\n",
       "611  Sponge                         zh     NaN\n",
       "\n",
       "[612 rows x 3 columns]"
      ]
     },
     "execution_count": 34,
     "metadata": {},
     "output_type": "execute_result"
    }
   ],
   "source": [
    "cakes"
   ]
  },
  {
   "cell_type": "code",
   "execution_count": 53,
   "metadata": {},
   "outputs": [],
   "source": [
    "ingredients = ingredients.rename(columns={\"column1\":\"code\", \"column2\":\"ingredient\", \"column3\":\"measure\"})\n",
    "# columns named incorrectly"
   ]
  },
  {
   "cell_type": "code",
   "execution_count": 54,
   "metadata": {},
   "outputs": [],
   "source": [
    "ingredients = ingredients.drop(0) # remove first row which duplicates column names"
   ]
  },
  {
   "cell_type": "code",
   "execution_count": 55,
   "metadata": {},
   "outputs": [],
   "source": [
    "ingredients[\"code\"] = ingredients[\"code\"].str.lower() # make the ingredients codes lowercase"
   ]
  },
  {
   "cell_type": "code",
   "execution_count": 56,
   "metadata": {},
   "outputs": [],
   "source": [
    "cakes_ingredients = cakes.merge(ingredients, left_on=\"ingredients\", right_on=\"code\") \n",
    "#combine the tables on ingredient codes"
   ]
  },
  {
   "cell_type": "code",
   "execution_count": 57,
   "metadata": {},
   "outputs": [],
   "source": [
    "cakes_ingredients= cakes_ingredients.drop(columns=[\"code\", \"ingredients\"]) #remove unnecessary columns"
   ]
  },
  {
   "cell_type": "code",
   "execution_count": 58,
   "metadata": {},
   "outputs": [
    {
     "data": {
      "text/html": [
       "<div>\n",
       "<style scoped>\n",
       "    .dataframe tbody tr th:only-of-type {\n",
       "        vertical-align: middle;\n",
       "    }\n",
       "\n",
       "    .dataframe tbody tr th {\n",
       "        vertical-align: top;\n",
       "    }\n",
       "\n",
       "    .dataframe thead th {\n",
       "        text-align: right;\n",
       "    }\n",
       "</style>\n",
       "<table border=\"1\" class=\"dataframe\">\n",
       "  <thead>\n",
       "    <tr style=\"text-align: right;\">\n",
       "      <th></th>\n",
       "      <th>cake</th>\n",
       "      <th>amount</th>\n",
       "      <th>ingredient</th>\n",
       "      <th>measure</th>\n",
       "    </tr>\n",
       "  </thead>\n",
       "  <tbody>\n",
       "    <tr>\n",
       "      <th>0</th>\n",
       "      <td>Angel</td>\n",
       "      <td>0.25</td>\n",
       "      <td>Almond essence</td>\n",
       "      <td>teaspoon</td>\n",
       "    </tr>\n",
       "    <tr>\n",
       "      <th>1</th>\n",
       "      <td>Babas au Rhum</td>\n",
       "      <td>NaN</td>\n",
       "      <td>Almond essence</td>\n",
       "      <td>teaspoon</td>\n",
       "    </tr>\n",
       "    <tr>\n",
       "      <th>2</th>\n",
       "      <td>Sweet Chocolate</td>\n",
       "      <td>NaN</td>\n",
       "      <td>Almond essence</td>\n",
       "      <td>teaspoon</td>\n",
       "    </tr>\n",
       "    <tr>\n",
       "      <th>3</th>\n",
       "      <td>Buche de Noel</td>\n",
       "      <td>NaN</td>\n",
       "      <td>Almond essence</td>\n",
       "      <td>teaspoon</td>\n",
       "    </tr>\n",
       "    <tr>\n",
       "      <th>4</th>\n",
       "      <td>Cheesecake</td>\n",
       "      <td>NaN</td>\n",
       "      <td>Almond essence</td>\n",
       "      <td>teaspoon</td>\n",
       "    </tr>\n",
       "    <tr>\n",
       "      <th>...</th>\n",
       "      <td>...</td>\n",
       "      <td>...</td>\n",
       "      <td>...</td>\n",
       "      <td>...</td>\n",
       "    </tr>\n",
       "    <tr>\n",
       "      <th>607</th>\n",
       "      <td>Strawberry Roll</td>\n",
       "      <td>NaN</td>\n",
       "      <td>Zwiebach</td>\n",
       "      <td>ounce</td>\n",
       "    </tr>\n",
       "    <tr>\n",
       "      <th>608</th>\n",
       "      <td>Savarin</td>\n",
       "      <td>NaN</td>\n",
       "      <td>Zwiebach</td>\n",
       "      <td>ounce</td>\n",
       "    </tr>\n",
       "    <tr>\n",
       "      <th>609</th>\n",
       "      <td>Banana Shortcake</td>\n",
       "      <td>NaN</td>\n",
       "      <td>Zwiebach</td>\n",
       "      <td>ounce</td>\n",
       "    </tr>\n",
       "    <tr>\n",
       "      <th>610</th>\n",
       "      <td>Strawberry Shortcake</td>\n",
       "      <td>NaN</td>\n",
       "      <td>Zwiebach</td>\n",
       "      <td>ounce</td>\n",
       "    </tr>\n",
       "    <tr>\n",
       "      <th>611</th>\n",
       "      <td>Sponge</td>\n",
       "      <td>NaN</td>\n",
       "      <td>Zwiebach</td>\n",
       "      <td>ounce</td>\n",
       "    </tr>\n",
       "  </tbody>\n",
       "</table>\n",
       "<p>612 rows × 4 columns</p>\n",
       "</div>"
      ],
      "text/plain": [
       "                      cake  amount      ingredient    measure\n",
       "0    Angel                    0.25  Almond essence   teaspoon\n",
       "1    Babas au Rhum             NaN  Almond essence   teaspoon\n",
       "2    Sweet Chocolate           NaN  Almond essence   teaspoon\n",
       "3    Buche de Noel             NaN  Almond essence   teaspoon\n",
       "4    Cheesecake                NaN  Almond essence   teaspoon\n",
       "..                     ...     ...             ...        ...\n",
       "607  Strawberry Roll           NaN        Zwiebach      ounce\n",
       "608  Savarin                   NaN        Zwiebach      ounce\n",
       "609  Banana Shortcake          NaN        Zwiebach      ounce\n",
       "610  Strawberry Shortcake      NaN        Zwiebach      ounce\n",
       "611  Sponge                    NaN        Zwiebach      ounce\n",
       "\n",
       "[612 rows x 4 columns]"
      ]
     },
     "execution_count": 58,
     "metadata": {},
     "output_type": "execute_result"
    }
   ],
   "source": [
    "cakes_ingredients"
   ]
  },
  {
   "cell_type": "code",
   "execution_count": 91,
   "metadata": {},
   "outputs": [
    {
     "data": {
      "text/plain": [
       "cake            0\n",
       "amount        456\n",
       "ingredient      0\n",
       "measure        18\n",
       "dtype: int64"
      ]
     },
     "execution_count": 91,
     "metadata": {},
     "output_type": "execute_result"
    }
   ],
   "source": [
    "cakes_ingredients.isna().sum()  #lots of NAs"
   ]
  },
  {
   "cell_type": "code",
   "execution_count": 92,
   "metadata": {},
   "outputs": [],
   "source": [
    "cakes_ingredients[\"amount\"] = cakes_ingredients[\"amount\"].fillna(0)"
   ]
  },
  {
   "cell_type": "code",
   "execution_count": 93,
   "metadata": {},
   "outputs": [],
   "source": [
    "cakes_ingredients[\"measure\"] = cakes_ingredients[\"measure\"].fillna(\"unknown\")"
   ]
  },
  {
   "cell_type": "code",
   "execution_count": 94,
   "metadata": {},
   "outputs": [
    {
     "data": {
      "text/plain": [
       "cake          0\n",
       "amount        0\n",
       "ingredient    0\n",
       "measure       0\n",
       "dtype: int64"
      ]
     },
     "execution_count": 94,
     "metadata": {},
     "output_type": "execute_result"
    }
   ],
   "source": [
    "cakes_ingredients.isna().sum() # no NAs remain"
   ]
  },
  {
   "cell_type": "markdown",
   "metadata": {},
   "source": [
    "1) Which cake has the most cocoa in it?"
   ]
  },
  {
   "cell_type": "code",
   "execution_count": 64,
   "metadata": {},
   "outputs": [
    {
     "data": {
      "text/html": [
       "<div>\n",
       "<style scoped>\n",
       "    .dataframe tbody tr th:only-of-type {\n",
       "        vertical-align: middle;\n",
       "    }\n",
       "\n",
       "    .dataframe tbody tr th {\n",
       "        vertical-align: top;\n",
       "    }\n",
       "\n",
       "    .dataframe thead th {\n",
       "        text-align: right;\n",
       "    }\n",
       "</style>\n",
       "<table border=\"1\" class=\"dataframe\">\n",
       "  <thead>\n",
       "    <tr style=\"text-align: right;\">\n",
       "      <th></th>\n",
       "      <th>cake</th>\n",
       "      <th>amount</th>\n",
       "      <th>ingredient</th>\n",
       "      <th>measure</th>\n",
       "    </tr>\n",
       "  </thead>\n",
       "  <tbody>\n",
       "    <tr>\n",
       "      <th>97</th>\n",
       "      <td>One Bowl Chocolate</td>\n",
       "      <td>10.0</td>\n",
       "      <td>Cocoa</td>\n",
       "      <td>tablespoon</td>\n",
       "    </tr>\n",
       "  </tbody>\n",
       "</table>\n",
       "</div>"
      ],
      "text/plain": [
       "                     cake  amount ingredient      measure\n",
       "97  One Bowl Chocolate       10.0      Cocoa   tablespoon"
      ]
     },
     "execution_count": 64,
     "metadata": {},
     "output_type": "execute_result"
    }
   ],
   "source": [
    "(cakes_ingredients[cakes_ingredients[\"ingredient\"].str.contains(pat=\"cocoa\", case=False)]\n",
    ".sort_values(by=\"amount\", ascending=False).head(1))"
   ]
  },
  {
   "cell_type": "markdown",
   "metadata": {},
   "source": [
    "2) For sponge cake, how many cups of ingredients are used in total?"
   ]
  },
  {
   "cell_type": "code",
   "execution_count": 95,
   "metadata": {},
   "outputs": [],
   "source": [
    "sponge_cake = cakes_ingredients[cakes_ingredients[\"cake\"].str.contains(pat=\"sponge\", case=False)]\n",
    "#filter sponge cake"
   ]
  },
  {
   "cell_type": "code",
   "execution_count": 96,
   "metadata": {},
   "outputs": [
    {
     "data": {
      "text/plain": [
       "3.5"
      ]
     },
     "execution_count": 96,
     "metadata": {},
     "output_type": "execute_result"
    }
   ],
   "source": [
    "sponge_cake[sponge_cake[\"measure\"].str.contains(pat=\"cup\", case=False)][\"amount\"].sum()"
   ]
  },
  {
   "cell_type": "markdown",
   "metadata": {},
   "source": [
    "3) How many ingredients are measured in teaspoons?"
   ]
  },
  {
   "cell_type": "code",
   "execution_count": 98,
   "metadata": {},
   "outputs": [],
   "source": [
    "teaspoon_ingredients = cakes_ingredients[cakes_ingredients[\"measure\"].str.contains(pat=\"teaspoon\", case=False)]"
   ]
  },
  {
   "cell_type": "code",
   "execution_count": 114,
   "metadata": {},
   "outputs": [
    {
     "data": {
      "text/plain": [
       "8"
      ]
     },
     "execution_count": 114,
     "metadata": {},
     "output_type": "execute_result"
    }
   ],
   "source": [
    "len(teaspoon_ingredients[\"ingredient\"].unique())"
   ]
  },
  {
   "cell_type": "markdown",
   "metadata": {},
   "source": [
    "4) Which cake has the most ingredients?"
   ]
  },
  {
   "cell_type": "code",
   "execution_count": 142,
   "metadata": {},
   "outputs": [],
   "source": [
    "cakes_with_ingredients = cakes_ingredients[cakes_ingredients[\"amount\"] > 0] # remove the 0s"
   ]
  },
  {
   "cell_type": "code",
   "execution_count": 150,
   "metadata": {},
   "outputs": [
    {
     "data": {
      "text/plain": [
       "cake\n",
       "One Bowl Chocolate       11\n",
       "Babas au Rhum            11\n",
       "Rum Cheesecake           10\n",
       "Cheesecake               10\n",
       "Strawberry Shortcake     10\n",
       "Sweet Chocolate          10\n",
       "Sour Cream Fudge         10\n",
       "Savarin                   9\n",
       "Red Devil's Food          9\n",
       "Blender Cheesecake        9\n",
       "Hungarian Cream           8\n",
       "Crumb and Nut             8\n",
       "Banana Shortcake          8\n",
       "Strawberry Roll           8\n",
       "Sponge                    7\n",
       "Angel                     7\n",
       "Spiced Pound              6\n",
       "Buche de Noel             5\n",
       "dtype: int64"
      ]
     },
     "execution_count": 150,
     "metadata": {},
     "output_type": "execute_result"
    }
   ],
   "source": [
    "cakes_with_ingredients.groupby(\"cake\").size().sort_values(ascending=False)"
   ]
  },
  {
   "cell_type": "markdown",
   "metadata": {},
   "source": [
    "5) Which ingredients are used only once?"
   ]
  },
  {
   "cell_type": "code",
   "execution_count": 173,
   "metadata": {},
   "outputs": [],
   "source": [
    "only_once = cakes_with_ingredients.groupby(\"ingredient\").size() == 1"
   ]
  },
  {
   "cell_type": "code",
   "execution_count": 174,
   "metadata": {},
   "outputs": [
    {
     "data": {
      "text/plain": [
       "0            Bananas\n",
       "1    Cream of tartar\n",
       "2        Crushed Ice\n",
       "3     Dried currants\n",
       "4          Egg white\n",
       "5             Nutmeg\n",
       "6               Nuts\n",
       "7           Zwiebach\n",
       "Name: ingredient, dtype: object"
      ]
     },
     "execution_count": 174,
     "metadata": {},
     "output_type": "execute_result"
    }
   ],
   "source": [
    "pd.Series(only_once[only_once].index)"
   ]
  },
  {
   "cell_type": "code",
   "execution_count": null,
   "metadata": {},
   "outputs": [],
   "source": []
  }
 ],
 "metadata": {
  "kernelspec": {
   "display_name": "Python 3",
   "language": "python",
   "name": "python3"
  },
  "language_info": {
   "codemirror_mode": {
    "name": "ipython",
    "version": 3
   },
   "file_extension": ".py",
   "mimetype": "text/x-python",
   "name": "python",
   "nbconvert_exporter": "python",
   "pygments_lexer": "ipython3",
   "version": "3.8.3"
  }
 },
 "nbformat": 4,
 "nbformat_minor": 4
}
