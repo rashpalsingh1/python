{
 "cells": [
  {
   "cell_type": "code",
   "execution_count": 1,
   "metadata": {},
   "outputs": [],
   "source": [
    "import pandas as pd"
   ]
  },
  {
   "cell_type": "code",
   "execution_count": 38,
   "metadata": {},
   "outputs": [],
   "source": [
    "import numpy as np"
   ]
  },
  {
   "cell_type": "code",
   "execution_count": 5,
   "metadata": {},
   "outputs": [],
   "source": [
    "import janitor"
   ]
  },
  {
   "cell_type": "markdown",
   "metadata": {},
   "source": [
    "1. Read in the data containing dietary compositions and familiarise yourself with it."
   ]
  },
  {
   "cell_type": "code",
   "execution_count": 13,
   "metadata": {},
   "outputs": [],
   "source": [
    "diet = pd.read_csv(\"dietary-composition-by-country.csv\")"
   ]
  },
  {
   "cell_type": "code",
   "execution_count": 14,
   "metadata": {},
   "outputs": [
    {
     "data": {
      "text/html": [
       "<div>\n",
       "<style scoped>\n",
       "    .dataframe tbody tr th:only-of-type {\n",
       "        vertical-align: middle;\n",
       "    }\n",
       "\n",
       "    .dataframe tbody tr th {\n",
       "        vertical-align: top;\n",
       "    }\n",
       "\n",
       "    .dataframe thead th {\n",
       "        text-align: right;\n",
       "    }\n",
       "</style>\n",
       "<table border=\"1\" class=\"dataframe\">\n",
       "  <thead>\n",
       "    <tr style=\"text-align: right;\">\n",
       "      <th></th>\n",
       "      <th>Entity</th>\n",
       "      <th>Code</th>\n",
       "      <th>Year</th>\n",
       "      <th>Alcoholic Beverages (FAO (2017))</th>\n",
       "      <th>Animal fats (FAO (2017))</th>\n",
       "      <th>Barley (FAO (2017))</th>\n",
       "      <th>Bovine Meat (FAO (2017))</th>\n",
       "      <th>Cereals, Other (FAO (2017))</th>\n",
       "      <th>Eggs (FAO (2017))</th>\n",
       "      <th>Fish &amp; seafood (FAO (2017))</th>\n",
       "      <th>...</th>\n",
       "      <th>Poultry Meat (FAO (2017))</th>\n",
       "      <th>Pulses (FAO (2017))</th>\n",
       "      <th>Rice (FAO (2017))</th>\n",
       "      <th>Starchy Roots (FAO (2017))</th>\n",
       "      <th>Sugar &amp; Sweeteners (FAO (2017))</th>\n",
       "      <th>Sugar Crops (FAO (2017))</th>\n",
       "      <th>Nuts &amp; Seeds (FAO (2017))</th>\n",
       "      <th>Vegetable Oils (FAO (2017))</th>\n",
       "      <th>Vegetables (FAO (2017))</th>\n",
       "      <th>Wheat (FAO (2017))</th>\n",
       "    </tr>\n",
       "  </thead>\n",
       "  <tbody>\n",
       "    <tr>\n",
       "      <th>0</th>\n",
       "      <td>Afghanistan</td>\n",
       "      <td>AFG</td>\n",
       "      <td>1961</td>\n",
       "      <td>0.0</td>\n",
       "      <td>47</td>\n",
       "      <td>237.0</td>\n",
       "      <td>28</td>\n",
       "      <td>16</td>\n",
       "      <td>4</td>\n",
       "      <td>0</td>\n",
       "      <td>...</td>\n",
       "      <td>2</td>\n",
       "      <td>16.0</td>\n",
       "      <td>209</td>\n",
       "      <td>25</td>\n",
       "      <td>51</td>\n",
       "      <td>NaN</td>\n",
       "      <td>2.0</td>\n",
       "      <td>26</td>\n",
       "      <td>22</td>\n",
       "      <td>1688</td>\n",
       "    </tr>\n",
       "    <tr>\n",
       "      <th>1</th>\n",
       "      <td>Afghanistan</td>\n",
       "      <td>AFG</td>\n",
       "      <td>1962</td>\n",
       "      <td>0.0</td>\n",
       "      <td>47</td>\n",
       "      <td>232.0</td>\n",
       "      <td>30</td>\n",
       "      <td>16</td>\n",
       "      <td>4</td>\n",
       "      <td>0</td>\n",
       "      <td>...</td>\n",
       "      <td>2</td>\n",
       "      <td>17.0</td>\n",
       "      <td>205</td>\n",
       "      <td>22</td>\n",
       "      <td>45</td>\n",
       "      <td>NaN</td>\n",
       "      <td>3.0</td>\n",
       "      <td>31</td>\n",
       "      <td>22</td>\n",
       "      <td>1633</td>\n",
       "    </tr>\n",
       "    <tr>\n",
       "      <th>2</th>\n",
       "      <td>Afghanistan</td>\n",
       "      <td>AFG</td>\n",
       "      <td>1963</td>\n",
       "      <td>0.0</td>\n",
       "      <td>50</td>\n",
       "      <td>227.0</td>\n",
       "      <td>30</td>\n",
       "      <td>16</td>\n",
       "      <td>4</td>\n",
       "      <td>0</td>\n",
       "      <td>...</td>\n",
       "      <td>2</td>\n",
       "      <td>17.0</td>\n",
       "      <td>199</td>\n",
       "      <td>23</td>\n",
       "      <td>47</td>\n",
       "      <td>NaN</td>\n",
       "      <td>1.0</td>\n",
       "      <td>38</td>\n",
       "      <td>23</td>\n",
       "      <td>1399</td>\n",
       "    </tr>\n",
       "    <tr>\n",
       "      <th>3</th>\n",
       "      <td>Afghanistan</td>\n",
       "      <td>AFG</td>\n",
       "      <td>1964</td>\n",
       "      <td>0.0</td>\n",
       "      <td>51</td>\n",
       "      <td>223.0</td>\n",
       "      <td>30</td>\n",
       "      <td>17</td>\n",
       "      <td>4</td>\n",
       "      <td>0</td>\n",
       "      <td>...</td>\n",
       "      <td>2</td>\n",
       "      <td>18.0</td>\n",
       "      <td>236</td>\n",
       "      <td>24</td>\n",
       "      <td>55</td>\n",
       "      <td>NaN</td>\n",
       "      <td>1.0</td>\n",
       "      <td>33</td>\n",
       "      <td>24</td>\n",
       "      <td>1602</td>\n",
       "    </tr>\n",
       "    <tr>\n",
       "      <th>4</th>\n",
       "      <td>Afghanistan</td>\n",
       "      <td>AFG</td>\n",
       "      <td>1965</td>\n",
       "      <td>0.0</td>\n",
       "      <td>53</td>\n",
       "      <td>218.0</td>\n",
       "      <td>30</td>\n",
       "      <td>17</td>\n",
       "      <td>4</td>\n",
       "      <td>0</td>\n",
       "      <td>...</td>\n",
       "      <td>2</td>\n",
       "      <td>18.0</td>\n",
       "      <td>230</td>\n",
       "      <td>24</td>\n",
       "      <td>57</td>\n",
       "      <td>NaN</td>\n",
       "      <td>2.0</td>\n",
       "      <td>33</td>\n",
       "      <td>24</td>\n",
       "      <td>1607</td>\n",
       "    </tr>\n",
       "    <tr>\n",
       "      <th>...</th>\n",
       "      <td>...</td>\n",
       "      <td>...</td>\n",
       "      <td>...</td>\n",
       "      <td>...</td>\n",
       "      <td>...</td>\n",
       "      <td>...</td>\n",
       "      <td>...</td>\n",
       "      <td>...</td>\n",
       "      <td>...</td>\n",
       "      <td>...</td>\n",
       "      <td>...</td>\n",
       "      <td>...</td>\n",
       "      <td>...</td>\n",
       "      <td>...</td>\n",
       "      <td>...</td>\n",
       "      <td>...</td>\n",
       "      <td>...</td>\n",
       "      <td>...</td>\n",
       "      <td>...</td>\n",
       "      <td>...</td>\n",
       "      <td>...</td>\n",
       "    </tr>\n",
       "    <tr>\n",
       "      <th>8976</th>\n",
       "      <td>Zimbabwe</td>\n",
       "      <td>ZWE</td>\n",
       "      <td>2009</td>\n",
       "      <td>67.0</td>\n",
       "      <td>46</td>\n",
       "      <td>1.0</td>\n",
       "      <td>37</td>\n",
       "      <td>76</td>\n",
       "      <td>7</td>\n",
       "      <td>3</td>\n",
       "      <td>...</td>\n",
       "      <td>20</td>\n",
       "      <td>56.0</td>\n",
       "      <td>33</td>\n",
       "      <td>56</td>\n",
       "      <td>209</td>\n",
       "      <td>0.0</td>\n",
       "      <td>2.0</td>\n",
       "      <td>252</td>\n",
       "      <td>10</td>\n",
       "      <td>249</td>\n",
       "    </tr>\n",
       "    <tr>\n",
       "      <th>8977</th>\n",
       "      <td>Zimbabwe</td>\n",
       "      <td>ZWE</td>\n",
       "      <td>2010</td>\n",
       "      <td>66.0</td>\n",
       "      <td>44</td>\n",
       "      <td>1.0</td>\n",
       "      <td>35</td>\n",
       "      <td>77</td>\n",
       "      <td>7</td>\n",
       "      <td>4</td>\n",
       "      <td>...</td>\n",
       "      <td>20</td>\n",
       "      <td>49.0</td>\n",
       "      <td>64</td>\n",
       "      <td>54</td>\n",
       "      <td>223</td>\n",
       "      <td>0.0</td>\n",
       "      <td>4.0</td>\n",
       "      <td>253</td>\n",
       "      <td>12</td>\n",
       "      <td>231</td>\n",
       "    </tr>\n",
       "    <tr>\n",
       "      <th>8978</th>\n",
       "      <td>Zimbabwe</td>\n",
       "      <td>ZWE</td>\n",
       "      <td>2011</td>\n",
       "      <td>66.0</td>\n",
       "      <td>37</td>\n",
       "      <td>1.0</td>\n",
       "      <td>35</td>\n",
       "      <td>79</td>\n",
       "      <td>6</td>\n",
       "      <td>6</td>\n",
       "      <td>...</td>\n",
       "      <td>22</td>\n",
       "      <td>39.0</td>\n",
       "      <td>86</td>\n",
       "      <td>56</td>\n",
       "      <td>232</td>\n",
       "      <td>0.0</td>\n",
       "      <td>3.0</td>\n",
       "      <td>265</td>\n",
       "      <td>12</td>\n",
       "      <td>231</td>\n",
       "    </tr>\n",
       "    <tr>\n",
       "      <th>8979</th>\n",
       "      <td>Zimbabwe</td>\n",
       "      <td>ZWE</td>\n",
       "      <td>2012</td>\n",
       "      <td>79.0</td>\n",
       "      <td>33</td>\n",
       "      <td>2.0</td>\n",
       "      <td>34</td>\n",
       "      <td>56</td>\n",
       "      <td>6</td>\n",
       "      <td>6</td>\n",
       "      <td>...</td>\n",
       "      <td>23</td>\n",
       "      <td>35.0</td>\n",
       "      <td>101</td>\n",
       "      <td>55</td>\n",
       "      <td>264</td>\n",
       "      <td>0.0</td>\n",
       "      <td>4.0</td>\n",
       "      <td>280</td>\n",
       "      <td>11</td>\n",
       "      <td>242</td>\n",
       "    </tr>\n",
       "    <tr>\n",
       "      <th>8980</th>\n",
       "      <td>Zimbabwe</td>\n",
       "      <td>ZWE</td>\n",
       "      <td>2013</td>\n",
       "      <td>76.0</td>\n",
       "      <td>28</td>\n",
       "      <td>2.0</td>\n",
       "      <td>34</td>\n",
       "      <td>58</td>\n",
       "      <td>6</td>\n",
       "      <td>6</td>\n",
       "      <td>...</td>\n",
       "      <td>17</td>\n",
       "      <td>36.0</td>\n",
       "      <td>101</td>\n",
       "      <td>54</td>\n",
       "      <td>268</td>\n",
       "      <td>0.0</td>\n",
       "      <td>4.0</td>\n",
       "      <td>273</td>\n",
       "      <td>11</td>\n",
       "      <td>243</td>\n",
       "    </tr>\n",
       "  </tbody>\n",
       "</table>\n",
       "<p>8981 rows × 28 columns</p>\n",
       "</div>"
      ],
      "text/plain": [
       "           Entity Code  Year  Alcoholic Beverages (FAO (2017))  \\\n",
       "0     Afghanistan  AFG  1961                               0.0   \n",
       "1     Afghanistan  AFG  1962                               0.0   \n",
       "2     Afghanistan  AFG  1963                               0.0   \n",
       "3     Afghanistan  AFG  1964                               0.0   \n",
       "4     Afghanistan  AFG  1965                               0.0   \n",
       "...           ...  ...   ...                               ...   \n",
       "8976     Zimbabwe  ZWE  2009                              67.0   \n",
       "8977     Zimbabwe  ZWE  2010                              66.0   \n",
       "8978     Zimbabwe  ZWE  2011                              66.0   \n",
       "8979     Zimbabwe  ZWE  2012                              79.0   \n",
       "8980     Zimbabwe  ZWE  2013                              76.0   \n",
       "\n",
       "      Animal fats (FAO (2017))  Barley (FAO (2017))  Bovine Meat (FAO (2017))  \\\n",
       "0                           47                237.0                        28   \n",
       "1                           47                232.0                        30   \n",
       "2                           50                227.0                        30   \n",
       "3                           51                223.0                        30   \n",
       "4                           53                218.0                        30   \n",
       "...                        ...                  ...                       ...   \n",
       "8976                        46                  1.0                        37   \n",
       "8977                        44                  1.0                        35   \n",
       "8978                        37                  1.0                        35   \n",
       "8979                        33                  2.0                        34   \n",
       "8980                        28                  2.0                        34   \n",
       "\n",
       "      Cereals, Other (FAO (2017))  Eggs (FAO (2017))  \\\n",
       "0                              16                  4   \n",
       "1                              16                  4   \n",
       "2                              16                  4   \n",
       "3                              17                  4   \n",
       "4                              17                  4   \n",
       "...                           ...                ...   \n",
       "8976                           76                  7   \n",
       "8977                           77                  7   \n",
       "8978                           79                  6   \n",
       "8979                           56                  6   \n",
       "8980                           58                  6   \n",
       "\n",
       "      Fish & seafood (FAO (2017))  ...  Poultry Meat (FAO (2017))  \\\n",
       "0                               0  ...                          2   \n",
       "1                               0  ...                          2   \n",
       "2                               0  ...                          2   \n",
       "3                               0  ...                          2   \n",
       "4                               0  ...                          2   \n",
       "...                           ...  ...                        ...   \n",
       "8976                            3  ...                         20   \n",
       "8977                            4  ...                         20   \n",
       "8978                            6  ...                         22   \n",
       "8979                            6  ...                         23   \n",
       "8980                            6  ...                         17   \n",
       "\n",
       "      Pulses (FAO (2017))  Rice (FAO (2017))  Starchy Roots (FAO (2017))  \\\n",
       "0                    16.0                209                          25   \n",
       "1                    17.0                205                          22   \n",
       "2                    17.0                199                          23   \n",
       "3                    18.0                236                          24   \n",
       "4                    18.0                230                          24   \n",
       "...                   ...                ...                         ...   \n",
       "8976                 56.0                 33                          56   \n",
       "8977                 49.0                 64                          54   \n",
       "8978                 39.0                 86                          56   \n",
       "8979                 35.0                101                          55   \n",
       "8980                 36.0                101                          54   \n",
       "\n",
       "      Sugar & Sweeteners (FAO (2017))  Sugar Crops (FAO (2017))  \\\n",
       "0                                  51                       NaN   \n",
       "1                                  45                       NaN   \n",
       "2                                  47                       NaN   \n",
       "3                                  55                       NaN   \n",
       "4                                  57                       NaN   \n",
       "...                               ...                       ...   \n",
       "8976                              209                       0.0   \n",
       "8977                              223                       0.0   \n",
       "8978                              232                       0.0   \n",
       "8979                              264                       0.0   \n",
       "8980                              268                       0.0   \n",
       "\n",
       "      Nuts & Seeds (FAO (2017))  Vegetable Oils (FAO (2017))  \\\n",
       "0                           2.0                           26   \n",
       "1                           3.0                           31   \n",
       "2                           1.0                           38   \n",
       "3                           1.0                           33   \n",
       "4                           2.0                           33   \n",
       "...                         ...                          ...   \n",
       "8976                        2.0                          252   \n",
       "8977                        4.0                          253   \n",
       "8978                        3.0                          265   \n",
       "8979                        4.0                          280   \n",
       "8980                        4.0                          273   \n",
       "\n",
       "      Vegetables (FAO (2017))  Wheat (FAO (2017))  \n",
       "0                          22                1688  \n",
       "1                          22                1633  \n",
       "2                          23                1399  \n",
       "3                          24                1602  \n",
       "4                          24                1607  \n",
       "...                       ...                 ...  \n",
       "8976                       10                 249  \n",
       "8977                       12                 231  \n",
       "8978                       12                 231  \n",
       "8979                       11                 242  \n",
       "8980                       11                 243  \n",
       "\n",
       "[8981 rows x 28 columns]"
      ]
     },
     "execution_count": 14,
     "metadata": {},
     "output_type": "execute_result"
    }
   ],
   "source": [
    "diet"
   ]
  },
  {
   "cell_type": "code",
   "execution_count": 8,
   "metadata": {},
   "outputs": [
    {
     "data": {
      "text/plain": [
       "Index(['entity', 'code', 'year', 'alcoholic_beverages_fao_2017_',\n",
       "       'animal_fats_fao_2017_', 'barley_fao_2017_', 'bovine_meat_fao_2017_',\n",
       "       'cereals_other_fao_2017_', 'eggs_fao_2017_', 'fish_&_seafood_fao_2017_',\n",
       "       'fruit_fao_2017_', 'maize_fao_2017_', 'meat_other_fao_2017_',\n",
       "       'milk_fao_2017_', 'miscellaneous_fao_2017_',\n",
       "       'mutton_&_goat_meat_fao_2017_', 'oilcrops_fao_2017_',\n",
       "       'pigmeat_fao_2017_', 'poultry_meat_fao_2017_', 'pulses_fao_2017_',\n",
       "       'rice_fao_2017_', 'starchy_roots_fao_2017_',\n",
       "       'sugar_&_sweeteners_fao_2017_', 'sugar_crops_fao_2017_',\n",
       "       'nuts_&_seeds_fao_2017_', 'vegetable_oils_fao_2017_',\n",
       "       'vegetables_fao_2017_', 'wheat_fao_2017_'],\n",
       "      dtype='object')"
      ]
     },
     "execution_count": 8,
     "metadata": {},
     "output_type": "execute_result"
    }
   ],
   "source": [
    "diet.columns"
   ]
  },
  {
   "cell_type": "markdown",
   "metadata": {},
   "source": [
    "2. Change the data to long format with food categories going to a column called kcal_source and the calorie values going to a column called avg_daily_kcals. Save into variable diet_comp_clean"
   ]
  },
  {
   "cell_type": "code",
   "execution_count": 16,
   "metadata": {},
   "outputs": [],
   "source": [
    "diet_comp_clean = diet.melt(id_vars=[\"Entity\", \"Code\", \"Year\"], var_name= \"kcal_source\", value_name = \"avg_daily_kcals\")"
   ]
  },
  {
   "cell_type": "code",
   "execution_count": 17,
   "metadata": {},
   "outputs": [
    {
     "data": {
      "text/html": [
       "<div>\n",
       "<style scoped>\n",
       "    .dataframe tbody tr th:only-of-type {\n",
       "        vertical-align: middle;\n",
       "    }\n",
       "\n",
       "    .dataframe tbody tr th {\n",
       "        vertical-align: top;\n",
       "    }\n",
       "\n",
       "    .dataframe thead th {\n",
       "        text-align: right;\n",
       "    }\n",
       "</style>\n",
       "<table border=\"1\" class=\"dataframe\">\n",
       "  <thead>\n",
       "    <tr style=\"text-align: right;\">\n",
       "      <th></th>\n",
       "      <th>Entity</th>\n",
       "      <th>Code</th>\n",
       "      <th>Year</th>\n",
       "      <th>kcal_source</th>\n",
       "      <th>avg_daily_kcals</th>\n",
       "    </tr>\n",
       "  </thead>\n",
       "  <tbody>\n",
       "    <tr>\n",
       "      <th>0</th>\n",
       "      <td>Afghanistan</td>\n",
       "      <td>AFG</td>\n",
       "      <td>1961</td>\n",
       "      <td>Alcoholic Beverages (FAO (2017))</td>\n",
       "      <td>0.0</td>\n",
       "    </tr>\n",
       "    <tr>\n",
       "      <th>1</th>\n",
       "      <td>Afghanistan</td>\n",
       "      <td>AFG</td>\n",
       "      <td>1962</td>\n",
       "      <td>Alcoholic Beverages (FAO (2017))</td>\n",
       "      <td>0.0</td>\n",
       "    </tr>\n",
       "    <tr>\n",
       "      <th>2</th>\n",
       "      <td>Afghanistan</td>\n",
       "      <td>AFG</td>\n",
       "      <td>1963</td>\n",
       "      <td>Alcoholic Beverages (FAO (2017))</td>\n",
       "      <td>0.0</td>\n",
       "    </tr>\n",
       "    <tr>\n",
       "      <th>3</th>\n",
       "      <td>Afghanistan</td>\n",
       "      <td>AFG</td>\n",
       "      <td>1964</td>\n",
       "      <td>Alcoholic Beverages (FAO (2017))</td>\n",
       "      <td>0.0</td>\n",
       "    </tr>\n",
       "    <tr>\n",
       "      <th>4</th>\n",
       "      <td>Afghanistan</td>\n",
       "      <td>AFG</td>\n",
       "      <td>1965</td>\n",
       "      <td>Alcoholic Beverages (FAO (2017))</td>\n",
       "      <td>0.0</td>\n",
       "    </tr>\n",
       "    <tr>\n",
       "      <th>...</th>\n",
       "      <td>...</td>\n",
       "      <td>...</td>\n",
       "      <td>...</td>\n",
       "      <td>...</td>\n",
       "      <td>...</td>\n",
       "    </tr>\n",
       "    <tr>\n",
       "      <th>224520</th>\n",
       "      <td>Zimbabwe</td>\n",
       "      <td>ZWE</td>\n",
       "      <td>2009</td>\n",
       "      <td>Wheat (FAO (2017))</td>\n",
       "      <td>249.0</td>\n",
       "    </tr>\n",
       "    <tr>\n",
       "      <th>224521</th>\n",
       "      <td>Zimbabwe</td>\n",
       "      <td>ZWE</td>\n",
       "      <td>2010</td>\n",
       "      <td>Wheat (FAO (2017))</td>\n",
       "      <td>231.0</td>\n",
       "    </tr>\n",
       "    <tr>\n",
       "      <th>224522</th>\n",
       "      <td>Zimbabwe</td>\n",
       "      <td>ZWE</td>\n",
       "      <td>2011</td>\n",
       "      <td>Wheat (FAO (2017))</td>\n",
       "      <td>231.0</td>\n",
       "    </tr>\n",
       "    <tr>\n",
       "      <th>224523</th>\n",
       "      <td>Zimbabwe</td>\n",
       "      <td>ZWE</td>\n",
       "      <td>2012</td>\n",
       "      <td>Wheat (FAO (2017))</td>\n",
       "      <td>242.0</td>\n",
       "    </tr>\n",
       "    <tr>\n",
       "      <th>224524</th>\n",
       "      <td>Zimbabwe</td>\n",
       "      <td>ZWE</td>\n",
       "      <td>2013</td>\n",
       "      <td>Wheat (FAO (2017))</td>\n",
       "      <td>243.0</td>\n",
       "    </tr>\n",
       "  </tbody>\n",
       "</table>\n",
       "<p>224525 rows × 5 columns</p>\n",
       "</div>"
      ],
      "text/plain": [
       "             Entity Code  Year                       kcal_source  \\\n",
       "0       Afghanistan  AFG  1961  Alcoholic Beverages (FAO (2017))   \n",
       "1       Afghanistan  AFG  1962  Alcoholic Beverages (FAO (2017))   \n",
       "2       Afghanistan  AFG  1963  Alcoholic Beverages (FAO (2017))   \n",
       "3       Afghanistan  AFG  1964  Alcoholic Beverages (FAO (2017))   \n",
       "4       Afghanistan  AFG  1965  Alcoholic Beverages (FAO (2017))   \n",
       "...             ...  ...   ...                               ...   \n",
       "224520     Zimbabwe  ZWE  2009                Wheat (FAO (2017))   \n",
       "224521     Zimbabwe  ZWE  2010                Wheat (FAO (2017))   \n",
       "224522     Zimbabwe  ZWE  2011                Wheat (FAO (2017))   \n",
       "224523     Zimbabwe  ZWE  2012                Wheat (FAO (2017))   \n",
       "224524     Zimbabwe  ZWE  2013                Wheat (FAO (2017))   \n",
       "\n",
       "        avg_daily_kcals  \n",
       "0                   0.0  \n",
       "1                   0.0  \n",
       "2                   0.0  \n",
       "3                   0.0  \n",
       "4                   0.0  \n",
       "...                 ...  \n",
       "224520            249.0  \n",
       "224521            231.0  \n",
       "224522            231.0  \n",
       "224523            242.0  \n",
       "224524            243.0  \n",
       "\n",
       "[224525 rows x 5 columns]"
      ]
     },
     "execution_count": 17,
     "metadata": {},
     "output_type": "execute_result"
    }
   ],
   "source": [
    "diet_comp_clean"
   ]
  },
  {
   "cell_type": "markdown",
   "metadata": {},
   "source": [
    "3. Clean kcal_source categories by removing any unnecessary information. Then clean all column names, and rename the column ‘entity’ to ‘country’. Overwrite diet_comp_clean with your results. "
   ]
  },
  {
   "cell_type": "code",
   "execution_count": 20,
   "metadata": {},
   "outputs": [],
   "source": [
    "diet_intermediate = diet_comp_clean[\"kcal_source\"].str.split(pat=\"[(*]\", expand=True) #split on encountering a '('"
   ]
  },
  {
   "cell_type": "code",
   "execution_count": 24,
   "metadata": {},
   "outputs": [],
   "source": [
    "diet_intermediate = diet_intermediate[0] "
   ]
  },
  {
   "cell_type": "code",
   "execution_count": 25,
   "metadata": {},
   "outputs": [],
   "source": [
    "diet_comp_clean[\"kcal_source\"] = diet_intermediate"
   ]
  },
  {
   "cell_type": "code",
   "execution_count": 29,
   "metadata": {},
   "outputs": [],
   "source": [
    "diet_comp_clean = diet_comp_clean.clean_names()"
   ]
  },
  {
   "cell_type": "code",
   "execution_count": 62,
   "metadata": {},
   "outputs": [],
   "source": [
    "diet_comp_clean[\"country\"]= diet_comp_clean[\"entity\"]"
   ]
  },
  {
   "cell_type": "code",
   "execution_count": 66,
   "metadata": {},
   "outputs": [],
   "source": [
    "diet_comp_clean = diet_comp_clean.drop(columns=\"entity\")"
   ]
  },
  {
   "cell_type": "markdown",
   "metadata": {},
   "source": [
    "4. Check how many missing values there are in each column"
   ]
  },
  {
   "cell_type": "code",
   "execution_count": 71,
   "metadata": {},
   "outputs": [
    {
     "name": "stdout",
     "output_type": "stream",
     "text": [
      "<class 'pandas.core.frame.DataFrame'>\n",
      "RangeIndex: 224525 entries, 0 to 224524\n",
      "Data columns (total 5 columns):\n",
      " #   Column           Non-Null Count   Dtype  \n",
      "---  ------           --------------   -----  \n",
      " 0   code             221875 non-null  object \n",
      " 1   year             224525 non-null  int64  \n",
      " 2   kcal_source      224525 non-null  object \n",
      " 3   avg_daily_kcals  216499 non-null  float64\n",
      " 4   country          224525 non-null  object \n",
      "dtypes: float64(1), int64(1), object(3)\n",
      "memory usage: 8.6+ MB\n"
     ]
    }
   ],
   "source": [
    "diet_comp_clean.info()"
   ]
  },
  {
   "cell_type": "code",
   "execution_count": 35,
   "metadata": {},
   "outputs": [
    {
     "data": {
      "text/plain": [
       "2650"
      ]
     },
     "execution_count": 35,
     "metadata": {},
     "output_type": "execute_result"
    }
   ],
   "source": [
    "diet_comp_clean.shape[0] - diet_comp_clean[\"code\"].count() #number of missing values in code"
   ]
  },
  {
   "cell_type": "code",
   "execution_count": 36,
   "metadata": {},
   "outputs": [
    {
     "data": {
      "text/plain": [
       "8026"
      ]
     },
     "execution_count": 36,
     "metadata": {},
     "output_type": "execute_result"
    }
   ],
   "source": [
    "diet_comp_clean.shape[0] - diet_comp_clean[\"avg_daily_kcals\"].count()#number of missing values in avg_daily_kcals"
   ]
  },
  {
   "cell_type": "markdown",
   "metadata": {},
   "source": [
    "5. Let’s investigate the missing values in column code further. First, check which countries are missing a code. Save these as a character vector, and use this vector to check whether you can find their code anywhere in the dataset, i.e. is the code missing for every observation for these countries."
   ]
  },
  {
   "cell_type": "code",
   "execution_count": 85,
   "metadata": {},
   "outputs": [
    {
     "data": {
      "text/html": [
       "<div>\n",
       "<style scoped>\n",
       "    .dataframe tbody tr th:only-of-type {\n",
       "        vertical-align: middle;\n",
       "    }\n",
       "\n",
       "    .dataframe tbody tr th {\n",
       "        vertical-align: top;\n",
       "    }\n",
       "\n",
       "    .dataframe thead th {\n",
       "        text-align: right;\n",
       "    }\n",
       "</style>\n",
       "<table border=\"1\" class=\"dataframe\">\n",
       "  <thead>\n",
       "    <tr style=\"text-align: right;\">\n",
       "      <th></th>\n",
       "      <th>code</th>\n",
       "    </tr>\n",
       "    <tr>\n",
       "      <th>country</th>\n",
       "      <th></th>\n",
       "    </tr>\n",
       "  </thead>\n",
       "  <tbody>\n",
       "    <tr>\n",
       "      <th>Cabo Verde</th>\n",
       "      <td>0</td>\n",
       "    </tr>\n",
       "    <tr>\n",
       "      <th>United States of America</th>\n",
       "      <td>0</td>\n",
       "    </tr>\n",
       "  </tbody>\n",
       "</table>\n",
       "</div>"
      ],
      "text/plain": [
       "                          code\n",
       "country                       \n",
       "Cabo Verde                   0\n",
       "United States of America     0"
      ]
     },
     "execution_count": 85,
     "metadata": {},
     "output_type": "execute_result"
    }
   ],
   "source": [
    "diet_comp_clean[diet_comp_clean[\"code\"].isna()].groupby(\"country\").agg({'code':'sum'})"
   ]
  },
  {
   "cell_type": "code",
   "execution_count": 114,
   "metadata": {},
   "outputs": [],
   "source": [
    "country_array = diet_comp_clean[diet_comp_clean[\"code\"].isna()].country.unique()"
   ]
  },
  {
   "cell_type": "code",
   "execution_count": 118,
   "metadata": {},
   "outputs": [
    {
     "data": {
      "text/plain": [
       "array([nan], dtype=object)"
      ]
     },
     "execution_count": 118,
     "metadata": {},
     "output_type": "execute_result"
    }
   ],
   "source": [
    "diet_comp_clean[diet_comp_clean[\"country\"].isin(country_array)].code.unique()"
   ]
  },
  {
   "cell_type": "markdown",
   "metadata": {},
   "source": [
    "6. Google tells us there’s something called ISO Alpha-3 codes which look pretty promising. Wait, what’s that in your data folder? Read it in! Then find the missing codes!"
   ]
  },
  {
   "cell_type": "code",
   "execution_count": 119,
   "metadata": {},
   "outputs": [],
   "source": [
    "codes = pd.read_csv(\"country_codes.csv\")"
   ]
  },
  {
   "cell_type": "code",
   "execution_count": 130,
   "metadata": {},
   "outputs": [
    {
     "data": {
      "text/html": [
       "<div>\n",
       "<style scoped>\n",
       "    .dataframe tbody tr th:only-of-type {\n",
       "        vertical-align: middle;\n",
       "    }\n",
       "\n",
       "    .dataframe tbody tr th {\n",
       "        vertical-align: top;\n",
       "    }\n",
       "\n",
       "    .dataframe thead th {\n",
       "        text-align: right;\n",
       "    }\n",
       "</style>\n",
       "<table border=\"1\" class=\"dataframe\">\n",
       "  <thead>\n",
       "    <tr style=\"text-align: right;\">\n",
       "      <th></th>\n",
       "      <th>Country</th>\n",
       "      <th>Alpha-2 code</th>\n",
       "      <th>Alpha-3 code</th>\n",
       "    </tr>\n",
       "  </thead>\n",
       "  <tbody>\n",
       "    <tr>\n",
       "      <th>240</th>\n",
       "      <td>United States</td>\n",
       "      <td>US</td>\n",
       "      <td>USA</td>\n",
       "    </tr>\n",
       "  </tbody>\n",
       "</table>\n",
       "</div>"
      ],
      "text/plain": [
       "           Country Alpha-2 code Alpha-3 code\n",
       "240  United States           US          USA"
      ]
     },
     "execution_count": 130,
     "metadata": {},
     "output_type": "execute_result"
    }
   ],
   "source": [
    "codes[codes[\"Country\"] == \"United States\"]"
   ]
  },
  {
   "cell_type": "code",
   "execution_count": 137,
   "metadata": {},
   "outputs": [
    {
     "data": {
      "text/html": [
       "<div>\n",
       "<style scoped>\n",
       "    .dataframe tbody tr th:only-of-type {\n",
       "        vertical-align: middle;\n",
       "    }\n",
       "\n",
       "    .dataframe tbody tr th {\n",
       "        vertical-align: top;\n",
       "    }\n",
       "\n",
       "    .dataframe thead th {\n",
       "        text-align: right;\n",
       "    }\n",
       "</style>\n",
       "<table border=\"1\" class=\"dataframe\">\n",
       "  <thead>\n",
       "    <tr style=\"text-align: right;\">\n",
       "      <th></th>\n",
       "      <th>Country</th>\n",
       "      <th>Alpha-2 code</th>\n",
       "      <th>Alpha-3 code</th>\n",
       "    </tr>\n",
       "  </thead>\n",
       "  <tbody>\n",
       "    <tr>\n",
       "      <th>40</th>\n",
       "      <td>Cape Verde</td>\n",
       "      <td>CV</td>\n",
       "      <td>CPV</td>\n",
       "    </tr>\n",
       "  </tbody>\n",
       "</table>\n",
       "</div>"
      ],
      "text/plain": [
       "       Country Alpha-2 code Alpha-3 code\n",
       "40  Cape Verde           CV          CPV"
      ]
     },
     "execution_count": 137,
     "metadata": {},
     "output_type": "execute_result"
    }
   ],
   "source": [
    "codes[codes[\"Country\"] == \"Cape Verde\"]"
   ]
  },
  {
   "cell_type": "markdown",
   "metadata": {},
   "source": [
    "7. Using a suitable recoding function, fill in the lost (but now found) country codes. Overwrite diet_comp_clean again. Finally, check that there are now no missing values in the code column."
   ]
  },
  {
   "cell_type": "code",
   "execution_count": 141,
   "metadata": {},
   "outputs": [],
   "source": [
    "diet_comp_clean['code'] = np.where(diet_comp_clean['country'] == \"United States of America\", \"USA\", diet_comp_clean['code'])"
   ]
  },
  {
   "cell_type": "code",
   "execution_count": 144,
   "metadata": {},
   "outputs": [
    {
     "data": {
      "text/html": [
       "<div>\n",
       "<style scoped>\n",
       "    .dataframe tbody tr th:only-of-type {\n",
       "        vertical-align: middle;\n",
       "    }\n",
       "\n",
       "    .dataframe tbody tr th {\n",
       "        vertical-align: top;\n",
       "    }\n",
       "\n",
       "    .dataframe thead th {\n",
       "        text-align: right;\n",
       "    }\n",
       "</style>\n",
       "<table border=\"1\" class=\"dataframe\">\n",
       "  <thead>\n",
       "    <tr style=\"text-align: right;\">\n",
       "      <th></th>\n",
       "      <th>code</th>\n",
       "      <th>year</th>\n",
       "      <th>kcal_source</th>\n",
       "      <th>avg_daily_kcals</th>\n",
       "      <th>country</th>\n",
       "    </tr>\n",
       "  </thead>\n",
       "  <tbody>\n",
       "    <tr>\n",
       "      <th>8473</th>\n",
       "      <td>USA</td>\n",
       "      <td>1961</td>\n",
       "      <td>Alcoholic Beverages</td>\n",
       "      <td>109.0</td>\n",
       "      <td>United States of America</td>\n",
       "    </tr>\n",
       "  </tbody>\n",
       "</table>\n",
       "</div>"
      ],
      "text/plain": [
       "     code  year           kcal_source  avg_daily_kcals  \\\n",
       "8473  USA  1961  Alcoholic Beverages             109.0   \n",
       "\n",
       "                       country  \n",
       "8473  United States of America  "
      ]
     },
     "execution_count": 144,
     "metadata": {},
     "output_type": "execute_result"
    }
   ],
   "source": [
    "diet_comp_clean[diet_comp_clean[\"country\"] == \"United States of America\"].head(1)"
   ]
  },
  {
   "cell_type": "code",
   "execution_count": 147,
   "metadata": {},
   "outputs": [],
   "source": [
    "diet_comp_clean['code'] = np.where(diet_comp_clean['country'] == \"Cabo Verde\", \"CPV\", diet_comp_clean['code'])"
   ]
  },
  {
   "cell_type": "code",
   "execution_count": 148,
   "metadata": {},
   "outputs": [
    {
     "data": {
      "text/html": [
       "<div>\n",
       "<style scoped>\n",
       "    .dataframe tbody tr th:only-of-type {\n",
       "        vertical-align: middle;\n",
       "    }\n",
       "\n",
       "    .dataframe tbody tr th {\n",
       "        vertical-align: top;\n",
       "    }\n",
       "\n",
       "    .dataframe thead th {\n",
       "        text-align: right;\n",
       "    }\n",
       "</style>\n",
       "<table border=\"1\" class=\"dataframe\">\n",
       "  <thead>\n",
       "    <tr style=\"text-align: right;\">\n",
       "      <th></th>\n",
       "      <th>code</th>\n",
       "      <th>year</th>\n",
       "      <th>kcal_source</th>\n",
       "      <th>avg_daily_kcals</th>\n",
       "      <th>country</th>\n",
       "    </tr>\n",
       "  </thead>\n",
       "  <tbody>\n",
       "    <tr>\n",
       "      <th>1294</th>\n",
       "      <td>CPV</td>\n",
       "      <td>1961</td>\n",
       "      <td>Alcoholic Beverages</td>\n",
       "      <td>15.0</td>\n",
       "      <td>Cabo Verde</td>\n",
       "    </tr>\n",
       "  </tbody>\n",
       "</table>\n",
       "</div>"
      ],
      "text/plain": [
       "     code  year           kcal_source  avg_daily_kcals     country\n",
       "1294  CPV  1961  Alcoholic Beverages              15.0  Cabo Verde"
      ]
     },
     "execution_count": 148,
     "metadata": {},
     "output_type": "execute_result"
    }
   ],
   "source": [
    "diet_comp_clean[diet_comp_clean[\"country\"] == \"Cabo Verde\"].head(1)"
   ]
  },
  {
   "cell_type": "code",
   "execution_count": 149,
   "metadata": {},
   "outputs": [
    {
     "data": {
      "text/plain": [
       "0"
      ]
     },
     "execution_count": 149,
     "metadata": {},
     "output_type": "execute_result"
    }
   ],
   "source": [
    "diet_comp_clean[\"code\"].isna().sum() # there are now no NAs"
   ]
  },
  {
   "cell_type": "code",
   "execution_count": null,
   "metadata": {},
   "outputs": [],
   "source": []
  }
 ],
 "metadata": {
  "kernelspec": {
   "display_name": "Python 3",
   "language": "python",
   "name": "python3"
  },
  "language_info": {
   "codemirror_mode": {
    "name": "ipython",
    "version": 3
   },
   "file_extension": ".py",
   "mimetype": "text/x-python",
   "name": "python",
   "nbconvert_exporter": "python",
   "pygments_lexer": "ipython3",
   "version": "3.8.3"
  }
 },
 "nbformat": 4,
 "nbformat_minor": 4
}
