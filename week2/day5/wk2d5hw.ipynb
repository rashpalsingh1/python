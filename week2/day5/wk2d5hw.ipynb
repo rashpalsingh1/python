{
 "cells": [
  {
   "cell_type": "code",
   "execution_count": 1,
   "metadata": {},
   "outputs": [],
   "source": [
    "import pandas as pd"
   ]
  },
  {
   "cell_type": "code",
   "execution_count": 2,
   "metadata": {},
   "outputs": [],
   "source": [
    "import numpy as np"
   ]
  },
  {
   "cell_type": "code",
   "execution_count": 3,
   "metadata": {},
   "outputs": [],
   "source": [
    "import janitor"
   ]
  },
  {
   "cell_type": "code",
   "execution_count": 56,
   "metadata": {},
   "outputs": [],
   "source": [
    "meteorites = pd.read_csv(\"meteorite_landings.csv\").clean_names()"
   ]
  },
  {
   "cell_type": "markdown",
   "metadata": {},
   "source": [
    "1) Split in column GeoLocation into latitude and longitude, the new latitude and longitude columns should be numeric."
   ]
  },
  {
   "cell_type": "code",
   "execution_count": 57,
   "metadata": {},
   "outputs": [],
   "source": [
    "lat_long = meteorites[\"geolocation\"].str.split(pat=\",\", expand=True)"
   ]
  },
  {
   "cell_type": "code",
   "execution_count": 58,
   "metadata": {},
   "outputs": [],
   "source": [
    "latitude = lat_long[0].str.extract(r'([\\d]+[.][\\d]*)')"
   ]
  },
  {
   "cell_type": "code",
   "execution_count": 59,
   "metadata": {},
   "outputs": [],
   "source": [
    "longtitude = lat_long[1].str.extract(r'([-]*[\\d]*[.][\\d]*)')"
   ]
  },
  {
   "cell_type": "code",
   "execution_count": 60,
   "metadata": {},
   "outputs": [],
   "source": [
    "meteorites[\"longtitude\"] = longtitude"
   ]
  },
  {
   "cell_type": "code",
   "execution_count": 61,
   "metadata": {},
   "outputs": [],
   "source": [
    "meteorites[\"latitude\"] = latitude"
   ]
  },
  {
   "cell_type": "code",
   "execution_count": 62,
   "metadata": {},
   "outputs": [],
   "source": [
    "meteorites = meteorites.drop(columns=\"geolocation\")"
   ]
  },
  {
   "cell_type": "code",
   "execution_count": 63,
   "metadata": {},
   "outputs": [],
   "source": [
    "meteorites[\"latitude\"] = meteorites[\"latitude\"].astype(\"float64\")"
   ]
  },
  {
   "cell_type": "code",
   "execution_count": 66,
   "metadata": {},
   "outputs": [],
   "source": [
    "meteorites[\"longtitude\"] = meteorites[\"longtitude\"].astype(\"float64\")"
   ]
  },
  {
   "cell_type": "code",
   "execution_count": 67,
   "metadata": {},
   "outputs": [
    {
     "data": {
      "text/html": [
       "<div>\n",
       "<style scoped>\n",
       "    .dataframe tbody tr th:only-of-type {\n",
       "        vertical-align: middle;\n",
       "    }\n",
       "\n",
       "    .dataframe tbody tr th {\n",
       "        vertical-align: top;\n",
       "    }\n",
       "\n",
       "    .dataframe thead th {\n",
       "        text-align: right;\n",
       "    }\n",
       "</style>\n",
       "<table border=\"1\" class=\"dataframe\">\n",
       "  <thead>\n",
       "    <tr style=\"text-align: right;\">\n",
       "      <th></th>\n",
       "      <th>id</th>\n",
       "      <th>name</th>\n",
       "      <th>mass_g_</th>\n",
       "      <th>fall</th>\n",
       "      <th>year</th>\n",
       "      <th>longtitude</th>\n",
       "      <th>latitude</th>\n",
       "    </tr>\n",
       "  </thead>\n",
       "  <tbody>\n",
       "    <tr>\n",
       "      <th>0</th>\n",
       "      <td>1</td>\n",
       "      <td>Aachen</td>\n",
       "      <td>21.0</td>\n",
       "      <td>Fell</td>\n",
       "      <td>1880.0</td>\n",
       "      <td>6.08333</td>\n",
       "      <td>50.77500</td>\n",
       "    </tr>\n",
       "    <tr>\n",
       "      <th>1</th>\n",
       "      <td>2</td>\n",
       "      <td>Aarhus</td>\n",
       "      <td>720.0</td>\n",
       "      <td>Fell</td>\n",
       "      <td>1951.0</td>\n",
       "      <td>10.23333</td>\n",
       "      <td>56.18333</td>\n",
       "    </tr>\n",
       "    <tr>\n",
       "      <th>2</th>\n",
       "      <td>4</td>\n",
       "      <td>Abajo</td>\n",
       "      <td>331.0</td>\n",
       "      <td>Found</td>\n",
       "      <td>1982.0</td>\n",
       "      <td>-105.41667</td>\n",
       "      <td>26.80000</td>\n",
       "    </tr>\n",
       "    <tr>\n",
       "      <th>3</th>\n",
       "      <td>5</td>\n",
       "      <td>Abbott</td>\n",
       "      <td>21100.0</td>\n",
       "      <td>Found</td>\n",
       "      <td>1951.0</td>\n",
       "      <td>-104.28333</td>\n",
       "      <td>36.30000</td>\n",
       "    </tr>\n",
       "    <tr>\n",
       "      <th>4</th>\n",
       "      <td>6</td>\n",
       "      <td>Abee</td>\n",
       "      <td>107000.0</td>\n",
       "      <td>Fell</td>\n",
       "      <td>1952.0</td>\n",
       "      <td>-113.00000</td>\n",
       "      <td>54.21667</td>\n",
       "    </tr>\n",
       "    <tr>\n",
       "      <th>...</th>\n",
       "      <td>...</td>\n",
       "      <td>...</td>\n",
       "      <td>...</td>\n",
       "      <td>...</td>\n",
       "      <td>...</td>\n",
       "      <td>...</td>\n",
       "      <td>...</td>\n",
       "    </tr>\n",
       "    <tr>\n",
       "      <th>45711</th>\n",
       "      <td>57454</td>\n",
       "      <td>Mandalay Spring</td>\n",
       "      <td>2854.0</td>\n",
       "      <td>Found</td>\n",
       "      <td>2012.0</td>\n",
       "      <td>-118.55319</td>\n",
       "      <td>40.89201</td>\n",
       "    </tr>\n",
       "    <tr>\n",
       "      <th>45712</th>\n",
       "      <td>57455</td>\n",
       "      <td>Antelope</td>\n",
       "      <td>754.0</td>\n",
       "      <td>Found</td>\n",
       "      <td>2012.0</td>\n",
       "      <td>-118.54465</td>\n",
       "      <td>40.90183</td>\n",
       "    </tr>\n",
       "    <tr>\n",
       "      <th>45713</th>\n",
       "      <td>57456</td>\n",
       "      <td>Northwest Africa 7870</td>\n",
       "      <td>42.0</td>\n",
       "      <td>Found</td>\n",
       "      <td>2004.0</td>\n",
       "      <td>0.00000</td>\n",
       "      <td>0.00000</td>\n",
       "    </tr>\n",
       "    <tr>\n",
       "      <th>45714</th>\n",
       "      <td>57457</td>\n",
       "      <td>Northwest Africa 7871</td>\n",
       "      <td>450.0</td>\n",
       "      <td>Found</td>\n",
       "      <td>2004.0</td>\n",
       "      <td>0.00000</td>\n",
       "      <td>0.00000</td>\n",
       "    </tr>\n",
       "    <tr>\n",
       "      <th>45715</th>\n",
       "      <td>57458</td>\n",
       "      <td>Northwest Africa 7873</td>\n",
       "      <td>446.0</td>\n",
       "      <td>Found</td>\n",
       "      <td>2009.0</td>\n",
       "      <td>0.00000</td>\n",
       "      <td>0.00000</td>\n",
       "    </tr>\n",
       "  </tbody>\n",
       "</table>\n",
       "<p>45716 rows × 7 columns</p>\n",
       "</div>"
      ],
      "text/plain": [
       "          id                   name   mass_g_   fall    year  longtitude  \\\n",
       "0          1                 Aachen      21.0   Fell  1880.0     6.08333   \n",
       "1          2                 Aarhus     720.0   Fell  1951.0    10.23333   \n",
       "2          4                  Abajo     331.0  Found  1982.0  -105.41667   \n",
       "3          5                 Abbott   21100.0  Found  1951.0  -104.28333   \n",
       "4          6                   Abee  107000.0   Fell  1952.0  -113.00000   \n",
       "...      ...                    ...       ...    ...     ...         ...   \n",
       "45711  57454        Mandalay Spring    2854.0  Found  2012.0  -118.55319   \n",
       "45712  57455               Antelope     754.0  Found  2012.0  -118.54465   \n",
       "45713  57456  Northwest Africa 7870      42.0  Found  2004.0     0.00000   \n",
       "45714  57457  Northwest Africa 7871     450.0  Found  2004.0     0.00000   \n",
       "45715  57458  Northwest Africa 7873     446.0  Found  2009.0     0.00000   \n",
       "\n",
       "       latitude  \n",
       "0      50.77500  \n",
       "1      56.18333  \n",
       "2      26.80000  \n",
       "3      36.30000  \n",
       "4      54.21667  \n",
       "...         ...  \n",
       "45711  40.89201  \n",
       "45712  40.90183  \n",
       "45713   0.00000  \n",
       "45714   0.00000  \n",
       "45715   0.00000  \n",
       "\n",
       "[45716 rows x 7 columns]"
      ]
     },
     "execution_count": 67,
     "metadata": {},
     "output_type": "execute_result"
    }
   ],
   "source": [
    "meteorites"
   ]
  },
  {
   "cell_type": "markdown",
   "metadata": {},
   "source": [
    "2) Replace any missing values in latitude and longitude with zeros."
   ]
  },
  {
   "cell_type": "code",
   "execution_count": 69,
   "metadata": {},
   "outputs": [
    {
     "name": "stdout",
     "output_type": "stream",
     "text": [
      "<class 'pandas.core.frame.DataFrame'>\n",
      "RangeIndex: 45716 entries, 0 to 45715\n",
      "Data columns (total 7 columns):\n",
      " #   Column      Non-Null Count  Dtype  \n",
      "---  ------      --------------  -----  \n",
      " 0   id          45716 non-null  int64  \n",
      " 1   name        45716 non-null  object \n",
      " 2   mass_g_     45585 non-null  float64\n",
      " 3   fall        45716 non-null  object \n",
      " 4   year        45417 non-null  float64\n",
      " 5   longtitude  38401 non-null  float64\n",
      " 6   latitude    38401 non-null  float64\n",
      "dtypes: float64(4), int64(1), object(2)\n",
      "memory usage: 2.4+ MB\n"
     ]
    }
   ],
   "source": [
    "meteorites.info() # check for NAs"
   ]
  },
  {
   "cell_type": "code",
   "execution_count": 70,
   "metadata": {},
   "outputs": [],
   "source": [
    "meteorites[\"longtitude\"] = meteorites[\"longtitude\"].fillna(\"0\")"
   ]
  },
  {
   "cell_type": "code",
   "execution_count": 71,
   "metadata": {},
   "outputs": [],
   "source": [
    "meteorites[\"latitude\"] = meteorites[\"latitude\"].fillna(\"0\")"
   ]
  },
  {
   "cell_type": "code",
   "execution_count": 74,
   "metadata": {},
   "outputs": [
    {
     "data": {
      "text/plain": [
       "0"
      ]
     },
     "execution_count": 74,
     "metadata": {},
     "output_type": "execute_result"
    }
   ],
   "source": [
    "meteorites[\"longtitude\"].isna().sum() # check for NAs"
   ]
  },
  {
   "cell_type": "code",
   "execution_count": 76,
   "metadata": {},
   "outputs": [
    {
     "data": {
      "text/plain": [
       "0"
      ]
     },
     "execution_count": 76,
     "metadata": {},
     "output_type": "execute_result"
    }
   ],
   "source": [
    "meteorites[\"latitude\"].isna().sum() # check for NAs"
   ]
  },
  {
   "cell_type": "markdown",
   "metadata": {},
   "source": [
    "3) Remove meteorites less than 1000g in weight from the data."
   ]
  },
  {
   "cell_type": "code",
   "execution_count": 81,
   "metadata": {},
   "outputs": [],
   "source": [
    "meteorites = meteorites[meteorites[\"mass_g_\"] >= 1000]"
   ]
  },
  {
   "cell_type": "code",
   "execution_count": 82,
   "metadata": {},
   "outputs": [
    {
     "data": {
      "text/html": [
       "<div>\n",
       "<style scoped>\n",
       "    .dataframe tbody tr th:only-of-type {\n",
       "        vertical-align: middle;\n",
       "    }\n",
       "\n",
       "    .dataframe tbody tr th {\n",
       "        vertical-align: top;\n",
       "    }\n",
       "\n",
       "    .dataframe thead th {\n",
       "        text-align: right;\n",
       "    }\n",
       "</style>\n",
       "<table border=\"1\" class=\"dataframe\">\n",
       "  <thead>\n",
       "    <tr style=\"text-align: right;\">\n",
       "      <th></th>\n",
       "      <th>id</th>\n",
       "      <th>mass_g_</th>\n",
       "      <th>year</th>\n",
       "    </tr>\n",
       "  </thead>\n",
       "  <tbody>\n",
       "    <tr>\n",
       "      <th>count</th>\n",
       "      <td>4871.000000</td>\n",
       "      <td>4.871000e+03</td>\n",
       "      <td>4814.000000</td>\n",
       "    </tr>\n",
       "    <tr>\n",
       "      <th>mean</th>\n",
       "      <td>22885.021351</td>\n",
       "      <td>1.234035e+05</td>\n",
       "      <td>1968.234109</td>\n",
       "    </tr>\n",
       "    <tr>\n",
       "      <th>std</th>\n",
       "      <td>16508.512824</td>\n",
       "      <td>1.755279e+06</td>\n",
       "      <td>50.412121</td>\n",
       "    </tr>\n",
       "    <tr>\n",
       "      <th>min</th>\n",
       "      <td>5.000000</td>\n",
       "      <td>1.000000e+03</td>\n",
       "      <td>1583.000000</td>\n",
       "    </tr>\n",
       "    <tr>\n",
       "      <th>25%</th>\n",
       "      <td>10166.000000</td>\n",
       "      <td>1.686285e+03</td>\n",
       "      <td>1945.000000</td>\n",
       "    </tr>\n",
       "    <tr>\n",
       "      <th>50%</th>\n",
       "      <td>18009.000000</td>\n",
       "      <td>3.600000e+03</td>\n",
       "      <td>1990.500000</td>\n",
       "    </tr>\n",
       "    <tr>\n",
       "      <th>75%</th>\n",
       "      <td>32661.500000</td>\n",
       "      <td>1.200000e+04</td>\n",
       "      <td>2002.000000</td>\n",
       "    </tr>\n",
       "    <tr>\n",
       "      <th>max</th>\n",
       "      <td>57454.000000</td>\n",
       "      <td>6.000000e+07</td>\n",
       "      <td>2013.000000</td>\n",
       "    </tr>\n",
       "  </tbody>\n",
       "</table>\n",
       "</div>"
      ],
      "text/plain": [
       "                 id       mass_g_         year\n",
       "count   4871.000000  4.871000e+03  4814.000000\n",
       "mean   22885.021351  1.234035e+05  1968.234109\n",
       "std    16508.512824  1.755279e+06    50.412121\n",
       "min        5.000000  1.000000e+03  1583.000000\n",
       "25%    10166.000000  1.686285e+03  1945.000000\n",
       "50%    18009.000000  3.600000e+03  1990.500000\n",
       "75%    32661.500000  1.200000e+04  2002.000000\n",
       "max    57454.000000  6.000000e+07  2013.000000"
      ]
     },
     "execution_count": 82,
     "metadata": {},
     "output_type": "execute_result"
    }
   ],
   "source": [
    "meteorites.describe()"
   ]
  },
  {
   "cell_type": "markdown",
   "metadata": {},
   "source": [
    "4) Order the data by the year of discovery."
   ]
  },
  {
   "cell_type": "code",
   "execution_count": 84,
   "metadata": {},
   "outputs": [],
   "source": [
    "meteorites = meteorites.sort_values(by=\"year\", ascending=False)"
   ]
  },
  {
   "cell_type": "code",
   "execution_count": null,
   "metadata": {},
   "outputs": [],
   "source": []
  }
 ],
 "metadata": {
  "kernelspec": {
   "display_name": "Python 3",
   "language": "python",
   "name": "python3"
  },
  "language_info": {
   "codemirror_mode": {
    "name": "ipython",
    "version": 3
   },
   "file_extension": ".py",
   "mimetype": "text/x-python",
   "name": "python",
   "nbconvert_exporter": "python",
   "pygments_lexer": "ipython3",
   "version": "3.8.3"
  }
 },
 "nbformat": 4,
 "nbformat_minor": 4
}
