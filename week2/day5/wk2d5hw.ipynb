{
 "cells": [
  {
   "cell_type": "code",
   "execution_count": 1,
   "metadata": {},
   "outputs": [],
   "source": [
    "import pandas as pd"
   ]
  },
  {
   "cell_type": "code",
   "execution_count": 2,
   "metadata": {},
   "outputs": [],
   "source": [
    "import numpy as np"
   ]
  },
  {
   "cell_type": "code",
   "execution_count": 3,
   "metadata": {},
   "outputs": [],
   "source": [
    "import janitor"
   ]
  },
  {
   "cell_type": "code",
   "execution_count": 4,
   "metadata": {},
   "outputs": [],
   "source": [
    "meteorites = pd.read_csv(\"meteorite_landings.csv\").clean_names()"
   ]
  },
  {
   "cell_type": "markdown",
   "metadata": {},
   "source": [
    "1) Split in column GeoLocation into latitude and longitude, the new latitude and longitude columns should be numeric."
   ]
  },
  {
   "cell_type": "code",
   "execution_count": 5,
   "metadata": {},
   "outputs": [],
   "source": [
    "lat_long = meteorites[\"geolocation\"].str.split(pat=\",\", expand=True)"
   ]
  },
  {
   "cell_type": "code",
   "execution_count": 6,
   "metadata": {},
   "outputs": [],
   "source": [
    "latitude = lat_long[0].str.extract(r'([\\d]+[.][\\d]*)')"
   ]
  },
  {
   "cell_type": "code",
   "execution_count": 7,
   "metadata": {},
   "outputs": [],
   "source": [
    "longtitude = lat_long[1].str.extract(r'([-]*[\\d]*[.][\\d]*)')"
   ]
  },
  {
   "cell_type": "code",
   "execution_count": 8,
   "metadata": {},
   "outputs": [],
   "source": [
    "meteorites[\"longtitude\"] = longtitude"
   ]
  },
  {
   "cell_type": "code",
   "execution_count": 9,
   "metadata": {},
   "outputs": [],
   "source": [
    "meteorites[\"latitude\"] = latitude"
   ]
  },
  {
   "cell_type": "code",
   "execution_count": 10,
   "metadata": {},
   "outputs": [],
   "source": [
    "meteorites = meteorites.drop(columns=\"geolocation\")"
   ]
  },
  {
   "cell_type": "code",
   "execution_count": 11,
   "metadata": {},
   "outputs": [],
   "source": [
    "meteorites[\"latitude\"] = meteorites[\"latitude\"].astype(\"float64\")"
   ]
  },
  {
   "cell_type": "code",
   "execution_count": 12,
   "metadata": {},
   "outputs": [],
   "source": [
    "meteorites[\"longtitude\"] = meteorites[\"longtitude\"].astype(\"float64\")"
   ]
  },
  {
   "cell_type": "code",
   "execution_count": 13,
   "metadata": {},
   "outputs": [
    {
     "data": {
      "text/html": [
       "<div>\n",
       "<style scoped>\n",
       "    .dataframe tbody tr th:only-of-type {\n",
       "        vertical-align: middle;\n",
       "    }\n",
       "\n",
       "    .dataframe tbody tr th {\n",
       "        vertical-align: top;\n",
       "    }\n",
       "\n",
       "    .dataframe thead th {\n",
       "        text-align: right;\n",
       "    }\n",
       "</style>\n",
       "<table border=\"1\" class=\"dataframe\">\n",
       "  <thead>\n",
       "    <tr style=\"text-align: right;\">\n",
       "      <th></th>\n",
       "      <th>id</th>\n",
       "      <th>name</th>\n",
       "      <th>mass_g_</th>\n",
       "      <th>fall</th>\n",
       "      <th>year</th>\n",
       "      <th>longtitude</th>\n",
       "      <th>latitude</th>\n",
       "    </tr>\n",
       "  </thead>\n",
       "  <tbody>\n",
       "    <tr>\n",
       "      <th>0</th>\n",
       "      <td>1</td>\n",
       "      <td>Aachen</td>\n",
       "      <td>21.0</td>\n",
       "      <td>Fell</td>\n",
       "      <td>1880.0</td>\n",
       "      <td>6.08333</td>\n",
       "      <td>50.77500</td>\n",
       "    </tr>\n",
       "    <tr>\n",
       "      <th>1</th>\n",
       "      <td>2</td>\n",
       "      <td>Aarhus</td>\n",
       "      <td>720.0</td>\n",
       "      <td>Fell</td>\n",
       "      <td>1951.0</td>\n",
       "      <td>10.23333</td>\n",
       "      <td>56.18333</td>\n",
       "    </tr>\n",
       "    <tr>\n",
       "      <th>2</th>\n",
       "      <td>4</td>\n",
       "      <td>Abajo</td>\n",
       "      <td>331.0</td>\n",
       "      <td>Found</td>\n",
       "      <td>1982.0</td>\n",
       "      <td>-105.41667</td>\n",
       "      <td>26.80000</td>\n",
       "    </tr>\n",
       "    <tr>\n",
       "      <th>3</th>\n",
       "      <td>5</td>\n",
       "      <td>Abbott</td>\n",
       "      <td>21100.0</td>\n",
       "      <td>Found</td>\n",
       "      <td>1951.0</td>\n",
       "      <td>-104.28333</td>\n",
       "      <td>36.30000</td>\n",
       "    </tr>\n",
       "    <tr>\n",
       "      <th>4</th>\n",
       "      <td>6</td>\n",
       "      <td>Abee</td>\n",
       "      <td>107000.0</td>\n",
       "      <td>Fell</td>\n",
       "      <td>1952.0</td>\n",
       "      <td>-113.00000</td>\n",
       "      <td>54.21667</td>\n",
       "    </tr>\n",
       "    <tr>\n",
       "      <th>...</th>\n",
       "      <td>...</td>\n",
       "      <td>...</td>\n",
       "      <td>...</td>\n",
       "      <td>...</td>\n",
       "      <td>...</td>\n",
       "      <td>...</td>\n",
       "      <td>...</td>\n",
       "    </tr>\n",
       "    <tr>\n",
       "      <th>45711</th>\n",
       "      <td>57454</td>\n",
       "      <td>Mandalay Spring</td>\n",
       "      <td>2854.0</td>\n",
       "      <td>Found</td>\n",
       "      <td>2012.0</td>\n",
       "      <td>-118.55319</td>\n",
       "      <td>40.89201</td>\n",
       "    </tr>\n",
       "    <tr>\n",
       "      <th>45712</th>\n",
       "      <td>57455</td>\n",
       "      <td>Antelope</td>\n",
       "      <td>754.0</td>\n",
       "      <td>Found</td>\n",
       "      <td>2012.0</td>\n",
       "      <td>-118.54465</td>\n",
       "      <td>40.90183</td>\n",
       "    </tr>\n",
       "    <tr>\n",
       "      <th>45713</th>\n",
       "      <td>57456</td>\n",
       "      <td>Northwest Africa 7870</td>\n",
       "      <td>42.0</td>\n",
       "      <td>Found</td>\n",
       "      <td>2004.0</td>\n",
       "      <td>0.00000</td>\n",
       "      <td>0.00000</td>\n",
       "    </tr>\n",
       "    <tr>\n",
       "      <th>45714</th>\n",
       "      <td>57457</td>\n",
       "      <td>Northwest Africa 7871</td>\n",
       "      <td>450.0</td>\n",
       "      <td>Found</td>\n",
       "      <td>2004.0</td>\n",
       "      <td>0.00000</td>\n",
       "      <td>0.00000</td>\n",
       "    </tr>\n",
       "    <tr>\n",
       "      <th>45715</th>\n",
       "      <td>57458</td>\n",
       "      <td>Northwest Africa 7873</td>\n",
       "      <td>446.0</td>\n",
       "      <td>Found</td>\n",
       "      <td>2009.0</td>\n",
       "      <td>0.00000</td>\n",
       "      <td>0.00000</td>\n",
       "    </tr>\n",
       "  </tbody>\n",
       "</table>\n",
       "<p>45716 rows × 7 columns</p>\n",
       "</div>"
      ],
      "text/plain": [
       "          id                   name   mass_g_   fall    year  longtitude  \\\n",
       "0          1                 Aachen      21.0   Fell  1880.0     6.08333   \n",
       "1          2                 Aarhus     720.0   Fell  1951.0    10.23333   \n",
       "2          4                  Abajo     331.0  Found  1982.0  -105.41667   \n",
       "3          5                 Abbott   21100.0  Found  1951.0  -104.28333   \n",
       "4          6                   Abee  107000.0   Fell  1952.0  -113.00000   \n",
       "...      ...                    ...       ...    ...     ...         ...   \n",
       "45711  57454        Mandalay Spring    2854.0  Found  2012.0  -118.55319   \n",
       "45712  57455               Antelope     754.0  Found  2012.0  -118.54465   \n",
       "45713  57456  Northwest Africa 7870      42.0  Found  2004.0     0.00000   \n",
       "45714  57457  Northwest Africa 7871     450.0  Found  2004.0     0.00000   \n",
       "45715  57458  Northwest Africa 7873     446.0  Found  2009.0     0.00000   \n",
       "\n",
       "       latitude  \n",
       "0      50.77500  \n",
       "1      56.18333  \n",
       "2      26.80000  \n",
       "3      36.30000  \n",
       "4      54.21667  \n",
       "...         ...  \n",
       "45711  40.89201  \n",
       "45712  40.90183  \n",
       "45713   0.00000  \n",
       "45714   0.00000  \n",
       "45715   0.00000  \n",
       "\n",
       "[45716 rows x 7 columns]"
      ]
     },
     "execution_count": 13,
     "metadata": {},
     "output_type": "execute_result"
    }
   ],
   "source": [
    "meteorites"
   ]
  },
  {
   "cell_type": "markdown",
   "metadata": {},
   "source": [
    "2) Replace any missing values in latitude and longitude with zeros."
   ]
  },
  {
   "cell_type": "code",
   "execution_count": 14,
   "metadata": {},
   "outputs": [
    {
     "name": "stdout",
     "output_type": "stream",
     "text": [
      "<class 'pandas.core.frame.DataFrame'>\n",
      "RangeIndex: 45716 entries, 0 to 45715\n",
      "Data columns (total 7 columns):\n",
      " #   Column      Non-Null Count  Dtype  \n",
      "---  ------      --------------  -----  \n",
      " 0   id          45716 non-null  int64  \n",
      " 1   name        45716 non-null  object \n",
      " 2   mass_g_     45585 non-null  float64\n",
      " 3   fall        45716 non-null  object \n",
      " 4   year        45417 non-null  float64\n",
      " 5   longtitude  38401 non-null  float64\n",
      " 6   latitude    38401 non-null  float64\n",
      "dtypes: float64(4), int64(1), object(2)\n",
      "memory usage: 2.4+ MB\n"
     ]
    }
   ],
   "source": [
    "meteorites.info() # check for NAs"
   ]
  },
  {
   "cell_type": "code",
   "execution_count": 15,
   "metadata": {},
   "outputs": [],
   "source": [
    "meteorites[\"longtitude\"] = meteorites[\"longtitude\"].fillna(\"0\")"
   ]
  },
  {
   "cell_type": "code",
   "execution_count": 16,
   "metadata": {},
   "outputs": [],
   "source": [
    "meteorites[\"latitude\"] = meteorites[\"latitude\"].fillna(\"0\")"
   ]
  },
  {
   "cell_type": "code",
   "execution_count": 17,
   "metadata": {},
   "outputs": [
    {
     "data": {
      "text/plain": [
       "0"
      ]
     },
     "execution_count": 17,
     "metadata": {},
     "output_type": "execute_result"
    }
   ],
   "source": [
    "meteorites[\"longtitude\"].isna().sum() # check for NAs"
   ]
  },
  {
   "cell_type": "code",
   "execution_count": 18,
   "metadata": {},
   "outputs": [
    {
     "data": {
      "text/plain": [
       "0"
      ]
     },
     "execution_count": 18,
     "metadata": {},
     "output_type": "execute_result"
    }
   ],
   "source": [
    "meteorites[\"latitude\"].isna().sum() # check for NAs"
   ]
  },
  {
   "cell_type": "markdown",
   "metadata": {},
   "source": [
    "3) Remove meteorites less than 1000g in weight from the data."
   ]
  },
  {
   "cell_type": "code",
   "execution_count": 19,
   "metadata": {},
   "outputs": [],
   "source": [
    "meteorites = meteorites[meteorites[\"mass_g_\"] >= 1000]"
   ]
  },
  {
   "cell_type": "code",
   "execution_count": 20,
   "metadata": {},
   "outputs": [
    {
     "data": {
      "text/html": [
       "<div>\n",
       "<style scoped>\n",
       "    .dataframe tbody tr th:only-of-type {\n",
       "        vertical-align: middle;\n",
       "    }\n",
       "\n",
       "    .dataframe tbody tr th {\n",
       "        vertical-align: top;\n",
       "    }\n",
       "\n",
       "    .dataframe thead th {\n",
       "        text-align: right;\n",
       "    }\n",
       "</style>\n",
       "<table border=\"1\" class=\"dataframe\">\n",
       "  <thead>\n",
       "    <tr style=\"text-align: right;\">\n",
       "      <th></th>\n",
       "      <th>id</th>\n",
       "      <th>mass_g_</th>\n",
       "      <th>year</th>\n",
       "    </tr>\n",
       "  </thead>\n",
       "  <tbody>\n",
       "    <tr>\n",
       "      <th>count</th>\n",
       "      <td>4871.000000</td>\n",
       "      <td>4.871000e+03</td>\n",
       "      <td>4814.000000</td>\n",
       "    </tr>\n",
       "    <tr>\n",
       "      <th>mean</th>\n",
       "      <td>22885.021351</td>\n",
       "      <td>1.234035e+05</td>\n",
       "      <td>1968.234109</td>\n",
       "    </tr>\n",
       "    <tr>\n",
       "      <th>std</th>\n",
       "      <td>16508.512824</td>\n",
       "      <td>1.755279e+06</td>\n",
       "      <td>50.412121</td>\n",
       "    </tr>\n",
       "    <tr>\n",
       "      <th>min</th>\n",
       "      <td>5.000000</td>\n",
       "      <td>1.000000e+03</td>\n",
       "      <td>1583.000000</td>\n",
       "    </tr>\n",
       "    <tr>\n",
       "      <th>25%</th>\n",
       "      <td>10166.000000</td>\n",
       "      <td>1.686285e+03</td>\n",
       "      <td>1945.000000</td>\n",
       "    </tr>\n",
       "    <tr>\n",
       "      <th>50%</th>\n",
       "      <td>18009.000000</td>\n",
       "      <td>3.600000e+03</td>\n",
       "      <td>1990.500000</td>\n",
       "    </tr>\n",
       "    <tr>\n",
       "      <th>75%</th>\n",
       "      <td>32661.500000</td>\n",
       "      <td>1.200000e+04</td>\n",
       "      <td>2002.000000</td>\n",
       "    </tr>\n",
       "    <tr>\n",
       "      <th>max</th>\n",
       "      <td>57454.000000</td>\n",
       "      <td>6.000000e+07</td>\n",
       "      <td>2013.000000</td>\n",
       "    </tr>\n",
       "  </tbody>\n",
       "</table>\n",
       "</div>"
      ],
      "text/plain": [
       "                 id       mass_g_         year\n",
       "count   4871.000000  4.871000e+03  4814.000000\n",
       "mean   22885.021351  1.234035e+05  1968.234109\n",
       "std    16508.512824  1.755279e+06    50.412121\n",
       "min        5.000000  1.000000e+03  1583.000000\n",
       "25%    10166.000000  1.686285e+03  1945.000000\n",
       "50%    18009.000000  3.600000e+03  1990.500000\n",
       "75%    32661.500000  1.200000e+04  2002.000000\n",
       "max    57454.000000  6.000000e+07  2013.000000"
      ]
     },
     "execution_count": 20,
     "metadata": {},
     "output_type": "execute_result"
    }
   ],
   "source": [
    "meteorites.describe()"
   ]
  },
  {
   "cell_type": "markdown",
   "metadata": {},
   "source": [
    "4) Order the data by the year of discovery."
   ]
  },
  {
   "cell_type": "code",
   "execution_count": 21,
   "metadata": {},
   "outputs": [],
   "source": [
    "meteorites = meteorites.sort_values(by=\"year\", ascending=False)"
   ]
  },
  {
   "cell_type": "markdown",
   "metadata": {},
   "source": [
    "5) Find the names and years found for the 10 largest meteorites in the data."
   ]
  },
  {
   "cell_type": "code",
   "execution_count": 26,
   "metadata": {},
   "outputs": [
    {
     "data": {
      "text/html": [
       "<div>\n",
       "<style scoped>\n",
       "    .dataframe tbody tr th:only-of-type {\n",
       "        vertical-align: middle;\n",
       "    }\n",
       "\n",
       "    .dataframe tbody tr th {\n",
       "        vertical-align: top;\n",
       "    }\n",
       "\n",
       "    .dataframe thead th {\n",
       "        text-align: right;\n",
       "    }\n",
       "</style>\n",
       "<table border=\"1\" class=\"dataframe\">\n",
       "  <thead>\n",
       "    <tr style=\"text-align: right;\">\n",
       "      <th></th>\n",
       "      <th>name</th>\n",
       "      <th>mass_g_</th>\n",
       "    </tr>\n",
       "  </thead>\n",
       "  <tbody>\n",
       "    <tr>\n",
       "      <th>10664</th>\n",
       "      <td>Hoba</td>\n",
       "      <td>60000000.0</td>\n",
       "    </tr>\n",
       "    <tr>\n",
       "      <th>4126</th>\n",
       "      <td>Cape York</td>\n",
       "      <td>58200000.0</td>\n",
       "    </tr>\n",
       "    <tr>\n",
       "      <th>4113</th>\n",
       "      <td>Campo del Cielo</td>\n",
       "      <td>50000000.0</td>\n",
       "    </tr>\n",
       "    <tr>\n",
       "      <th>4122</th>\n",
       "      <td>Canyon Diablo</td>\n",
       "      <td>30000000.0</td>\n",
       "    </tr>\n",
       "    <tr>\n",
       "      <th>2242</th>\n",
       "      <td>Armanty</td>\n",
       "      <td>28000000.0</td>\n",
       "    </tr>\n",
       "    <tr>\n",
       "      <th>9696</th>\n",
       "      <td>Gibeon</td>\n",
       "      <td>26000000.0</td>\n",
       "    </tr>\n",
       "    <tr>\n",
       "      <th>4216</th>\n",
       "      <td>Chupaderos</td>\n",
       "      <td>24300000.0</td>\n",
       "    </tr>\n",
       "    <tr>\n",
       "      <th>15555</th>\n",
       "      <td>Mundrabilla</td>\n",
       "      <td>24000000.0</td>\n",
       "    </tr>\n",
       "    <tr>\n",
       "      <th>22241</th>\n",
       "      <td>Sikhote-Alin</td>\n",
       "      <td>23000000.0</td>\n",
       "    </tr>\n",
       "    <tr>\n",
       "      <th>3801</th>\n",
       "      <td>Bacubirito</td>\n",
       "      <td>22000000.0</td>\n",
       "    </tr>\n",
       "  </tbody>\n",
       "</table>\n",
       "</div>"
      ],
      "text/plain": [
       "                  name     mass_g_\n",
       "10664             Hoba  60000000.0\n",
       "4126         Cape York  58200000.0\n",
       "4113   Campo del Cielo  50000000.0\n",
       "4122     Canyon Diablo  30000000.0\n",
       "2242           Armanty  28000000.0\n",
       "9696            Gibeon  26000000.0\n",
       "4216        Chupaderos  24300000.0\n",
       "15555      Mundrabilla  24000000.0\n",
       "22241     Sikhote-Alin  23000000.0\n",
       "3801        Bacubirito  22000000.0"
      ]
     },
     "execution_count": 26,
     "metadata": {},
     "output_type": "execute_result"
    }
   ],
   "source": [
    "meteorites.loc[:, [\"name\", \"mass_g_\"]].nlargest(10, columns=\"mass_g_\")"
   ]
  },
  {
   "cell_type": "markdown",
   "metadata": {},
   "source": [
    "6) Find the average mass of meteorites that were recorded falling, vs. those which were just found."
   ]
  },
  {
   "cell_type": "code",
   "execution_count": 27,
   "metadata": {},
   "outputs": [
    {
     "data": {
      "text/html": [
       "<div>\n",
       "<style scoped>\n",
       "    .dataframe tbody tr th:only-of-type {\n",
       "        vertical-align: middle;\n",
       "    }\n",
       "\n",
       "    .dataframe tbody tr th {\n",
       "        vertical-align: top;\n",
       "    }\n",
       "\n",
       "    .dataframe thead th {\n",
       "        text-align: right;\n",
       "    }\n",
       "</style>\n",
       "<table border=\"1\" class=\"dataframe\">\n",
       "  <thead>\n",
       "    <tr style=\"text-align: right;\">\n",
       "      <th></th>\n",
       "      <th>id</th>\n",
       "      <th>name</th>\n",
       "      <th>mass_g_</th>\n",
       "      <th>fall</th>\n",
       "      <th>year</th>\n",
       "      <th>longtitude</th>\n",
       "      <th>latitude</th>\n",
       "    </tr>\n",
       "  </thead>\n",
       "  <tbody>\n",
       "    <tr>\n",
       "      <th>45702</th>\n",
       "      <td>57427</td>\n",
       "      <td>Northwest Africa 7863</td>\n",
       "      <td>1000.0</td>\n",
       "      <td>Found</td>\n",
       "      <td>2013.0</td>\n",
       "      <td>0</td>\n",
       "      <td>0</td>\n",
       "    </tr>\n",
       "    <tr>\n",
       "      <th>45488</th>\n",
       "      <td>57165</td>\n",
       "      <td>Chelyabinsk</td>\n",
       "      <td>100000.0</td>\n",
       "      <td>Fell</td>\n",
       "      <td>2013.0</td>\n",
       "      <td>61.1167</td>\n",
       "      <td>54.8167</td>\n",
       "    </tr>\n",
       "    <tr>\n",
       "      <th>45711</th>\n",
       "      <td>57454</td>\n",
       "      <td>Mandalay Spring</td>\n",
       "      <td>2854.0</td>\n",
       "      <td>Found</td>\n",
       "      <td>2012.0</td>\n",
       "      <td>-118.553</td>\n",
       "      <td>40.892</td>\n",
       "    </tr>\n",
       "    <tr>\n",
       "      <th>44988</th>\n",
       "      <td>56646</td>\n",
       "      <td>Northwest Africa 7615</td>\n",
       "      <td>1100.0</td>\n",
       "      <td>Found</td>\n",
       "      <td>2012.0</td>\n",
       "      <td>0</td>\n",
       "      <td>0</td>\n",
       "    </tr>\n",
       "    <tr>\n",
       "      <th>43832</th>\n",
       "      <td>55333</td>\n",
       "      <td>Northwest Africa 7251</td>\n",
       "      <td>13000.0</td>\n",
       "      <td>Found</td>\n",
       "      <td>2012.0</td>\n",
       "      <td>0</td>\n",
       "      <td>0</td>\n",
       "    </tr>\n",
       "    <tr>\n",
       "      <th>...</th>\n",
       "      <td>...</td>\n",
       "      <td>...</td>\n",
       "      <td>...</td>\n",
       "      <td>...</td>\n",
       "      <td>...</td>\n",
       "      <td>...</td>\n",
       "      <td>...</td>\n",
       "    </tr>\n",
       "    <tr>\n",
       "      <th>44857</th>\n",
       "      <td>56491</td>\n",
       "      <td>Jiddat al Harasis 761</td>\n",
       "      <td>1251.0</td>\n",
       "      <td>Found</td>\n",
       "      <td>NaN</td>\n",
       "      <td>56.3919</td>\n",
       "      <td>19.945</td>\n",
       "    </tr>\n",
       "    <tr>\n",
       "      <th>44860</th>\n",
       "      <td>56494</td>\n",
       "      <td>Jiddat al Harasis 764</td>\n",
       "      <td>1236.0</td>\n",
       "      <td>Found</td>\n",
       "      <td>NaN</td>\n",
       "      <td>56.4817</td>\n",
       "      <td>19.8064</td>\n",
       "    </tr>\n",
       "    <tr>\n",
       "      <th>44882</th>\n",
       "      <td>56516</td>\n",
       "      <td>Ramlat as Sahmah 428</td>\n",
       "      <td>16247.0</td>\n",
       "      <td>Found</td>\n",
       "      <td>NaN</td>\n",
       "      <td>56.3269</td>\n",
       "      <td>20.1036</td>\n",
       "    </tr>\n",
       "    <tr>\n",
       "      <th>44889</th>\n",
       "      <td>56523</td>\n",
       "      <td>Jiddat al Harasis 791</td>\n",
       "      <td>1194.0</td>\n",
       "      <td>Found</td>\n",
       "      <td>NaN</td>\n",
       "      <td>55.7039</td>\n",
       "      <td>19.7286</td>\n",
       "    </tr>\n",
       "    <tr>\n",
       "      <th>44925</th>\n",
       "      <td>56567</td>\n",
       "      <td>Karavannoe</td>\n",
       "      <td>132000.0</td>\n",
       "      <td>Found</td>\n",
       "      <td>NaN</td>\n",
       "      <td>47.6797</td>\n",
       "      <td>57.7812</td>\n",
       "    </tr>\n",
       "  </tbody>\n",
       "</table>\n",
       "<p>4871 rows × 7 columns</p>\n",
       "</div>"
      ],
      "text/plain": [
       "          id                   name   mass_g_   fall    year longtitude  \\\n",
       "45702  57427  Northwest Africa 7863    1000.0  Found  2013.0          0   \n",
       "45488  57165            Chelyabinsk  100000.0   Fell  2013.0    61.1167   \n",
       "45711  57454        Mandalay Spring    2854.0  Found  2012.0   -118.553   \n",
       "44988  56646  Northwest Africa 7615    1100.0  Found  2012.0          0   \n",
       "43832  55333  Northwest Africa 7251   13000.0  Found  2012.0          0   \n",
       "...      ...                    ...       ...    ...     ...        ...   \n",
       "44857  56491  Jiddat al Harasis 761    1251.0  Found     NaN    56.3919   \n",
       "44860  56494  Jiddat al Harasis 764    1236.0  Found     NaN    56.4817   \n",
       "44882  56516   Ramlat as Sahmah 428   16247.0  Found     NaN    56.3269   \n",
       "44889  56523  Jiddat al Harasis 791    1194.0  Found     NaN    55.7039   \n",
       "44925  56567             Karavannoe  132000.0  Found     NaN    47.6797   \n",
       "\n",
       "      latitude  \n",
       "45702        0  \n",
       "45488  54.8167  \n",
       "45711   40.892  \n",
       "44988        0  \n",
       "43832        0  \n",
       "...        ...  \n",
       "44857   19.945  \n",
       "44860  19.8064  \n",
       "44882  20.1036  \n",
       "44889  19.7286  \n",
       "44925  57.7812  \n",
       "\n",
       "[4871 rows x 7 columns]"
      ]
     },
     "execution_count": 27,
     "metadata": {},
     "output_type": "execute_result"
    }
   ],
   "source": [
    "meteorites"
   ]
  },
  {
   "cell_type": "code",
   "execution_count": 33,
   "metadata": {},
   "outputs": [
    {
     "data": {
      "text/html": [
       "<div>\n",
       "<style scoped>\n",
       "    .dataframe tbody tr th:only-of-type {\n",
       "        vertical-align: middle;\n",
       "    }\n",
       "\n",
       "    .dataframe tbody tr th {\n",
       "        vertical-align: top;\n",
       "    }\n",
       "\n",
       "    .dataframe thead th {\n",
       "        text-align: right;\n",
       "    }\n",
       "</style>\n",
       "<table border=\"1\" class=\"dataframe\">\n",
       "  <thead>\n",
       "    <tr style=\"text-align: right;\">\n",
       "      <th></th>\n",
       "      <th>fall</th>\n",
       "      <th>mass_g_</th>\n",
       "    </tr>\n",
       "  </thead>\n",
       "  <tbody>\n",
       "    <tr>\n",
       "      <th>0</th>\n",
       "      <td>Fell</td>\n",
       "      <td>68033.0</td>\n",
       "    </tr>\n",
       "    <tr>\n",
       "      <th>1</th>\n",
       "      <td>Found</td>\n",
       "      <td>133354.0</td>\n",
       "    </tr>\n",
       "  </tbody>\n",
       "</table>\n",
       "</div>"
      ],
      "text/plain": [
       "    fall   mass_g_\n",
       "0   Fell   68033.0\n",
       "1  Found  133354.0"
      ]
     },
     "execution_count": 33,
     "metadata": {},
     "output_type": "execute_result"
    }
   ],
   "source": [
    "meteorites.groupby(\"fall\").agg({\"mass_g_\": \"mean\"}).reset_index().round()"
   ]
  },
  {
   "cell_type": "markdown",
   "metadata": {},
   "source": [
    "7) Find the number of meteorites in each year, for every year since 2000."
   ]
  },
  {
   "cell_type": "code",
   "execution_count": 49,
   "metadata": {},
   "outputs": [
    {
     "data": {
      "text/plain": [
       "2000.0    235\n",
       "2003.0    209\n",
       "2002.0    203\n",
       "2001.0    186\n",
       "2006.0    167\n",
       "2005.0    146\n",
       "2004.0    141\n",
       "2011.0    121\n",
       "2009.0    103\n",
       "2008.0     96\n",
       "2010.0     89\n",
       "2007.0     71\n",
       "2012.0     53\n",
       "2013.0      2\n",
       "Name: year, dtype: int64"
      ]
     },
     "execution_count": 49,
     "metadata": {},
     "output_type": "execute_result"
    }
   ],
   "source": [
    "meteorites[meteorites[\"year\"] >= 2000][\"year\"].value_counts()"
   ]
  },
  {
   "cell_type": "code",
   "execution_count": null,
   "metadata": {},
   "outputs": [],
   "source": []
  }
 ],
 "metadata": {
  "kernelspec": {
   "display_name": "Python 3",
   "language": "python",
   "name": "python3"
  },
  "language_info": {
   "codemirror_mode": {
    "name": "ipython",
    "version": 3
   },
   "file_extension": ".py",
   "mimetype": "text/x-python",
   "name": "python",
   "nbconvert_exporter": "python",
   "pygments_lexer": "ipython3",
   "version": "3.8.3"
  }
 },
 "nbformat": 4,
 "nbformat_minor": 4
}
