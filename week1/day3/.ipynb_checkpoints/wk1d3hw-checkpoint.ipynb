{
 "cells": [
  {
   "cell_type": "code",
   "execution_count": 41,
   "metadata": {},
   "outputs": [],
   "source": [
    "import pandas as pd"
   ]
  },
  {
   "cell_type": "code",
   "execution_count": 42,
   "metadata": {},
   "outputs": [],
   "source": [
    "import numpy as np"
   ]
  },
  {
   "cell_type": "code",
   "execution_count": 79,
   "metadata": {},
   "outputs": [],
   "source": [
    "movies = pd.read_csv(\"movies.csv\")"
   ]
  },
  {
   "cell_type": "markdown",
   "metadata": {},
   "source": [
    "2. we are only interested in the movies’ titles, their runtime as well as their budget. Select the three columns that contain this information and save them into a new variable called movies_selected"
   ]
  },
  {
   "cell_type": "code",
   "execution_count": 112,
   "metadata": {},
   "outputs": [],
   "source": [
    "movies_selected = movies.loc[:, [\"title\", \"budget\", \"runtime\"]]"
   ]
  },
  {
   "cell_type": "markdown",
   "metadata": {},
   "source": [
    "3. now take your subsetted data movies_selected, and count the number of missing values in each column."
   ]
  },
  {
   "cell_type": "code",
   "execution_count": 65,
   "metadata": {},
   "outputs": [
    {
     "data": {
      "text/plain": [
       "title      0\n",
       "budget     0\n",
       "runtime    2\n",
       "dtype: int64"
      ]
     },
     "execution_count": 65,
     "metadata": {},
     "output_type": "execute_result"
    }
   ],
   "source": [
    "movies_selected.isna().sum()"
   ]
  },
  {
   "cell_type": "markdown",
   "metadata": {},
   "source": [
    "4. There’s not too many NAs, but there are actually quite a few movies with a runtime of 0 in this dataset. Since it’s impossible for a movie to have a runtime of 0, use the function na_if to convert runtimes of length 0 into NAs. Save this into a new variable called movies_runtime. Then count how many missing values there are now in the column runtime"
   ]
  },
  {
   "cell_type": "code",
   "execution_count": 66,
   "metadata": {},
   "outputs": [
    {
     "data": {
      "text/plain": [
       "4118     0.0\n",
       "4210     0.0\n",
       "4205     0.0\n",
       "4571     0.0\n",
       "4569     0.0\n",
       "4566     0.0\n",
       "4564     0.0\n",
       "3992     0.0\n",
       "4611     0.0\n",
       "4558     0.0\n",
       "3112     0.0\n",
       "4458     0.0\n",
       "4553     0.0\n",
       "4729     0.0\n",
       "4068     0.0\n",
       "4405     0.0\n",
       "3809     0.0\n",
       "4581     0.0\n",
       "4328     0.0\n",
       "4620     0.0\n",
       "4502     0.0\n",
       "4504     0.0\n",
       "4313     0.0\n",
       "4318     0.0\n",
       "4633     0.0\n",
       "3953     0.0\n",
       "4584     0.0\n",
       "4322     0.0\n",
       "4241     0.0\n",
       "4657     0.0\n",
       "4658     0.0\n",
       "4662     0.0\n",
       "3669     0.0\n",
       "1011     0.0\n",
       "4435     0.0\n",
       "4466    14.0\n",
       "4709    25.0\n",
       "3626    41.0\n",
       "3471    42.0\n",
       "3354    46.0\n",
       "Name: runtime, dtype: float64"
      ]
     },
     "execution_count": 66,
     "metadata": {},
     "output_type": "execute_result"
    }
   ],
   "source": [
    "movies_selected.runtime.sort_values().head(40)"
   ]
  },
  {
   "cell_type": "code",
   "execution_count": 113,
   "metadata": {},
   "outputs": [],
   "source": [
    "movies_selected[\"runtime\"] = movies_selected[\"runtime\"].replace(0, np.nan)"
   ]
  },
  {
   "cell_type": "code",
   "execution_count": 82,
   "metadata": {},
   "outputs": [
    {
     "data": {
      "text/plain": [
       "4466    14.0\n",
       "4709    25.0\n",
       "3626    41.0\n",
       "3471    42.0\n",
       "3354    46.0\n",
       "4756    47.0\n",
       "3403    53.0\n",
       "4685    59.0\n",
       "4785    60.0\n",
       "1620    63.0\n",
       "4774    64.0\n",
       "4673    66.0\n",
       "3663    67.0\n",
       "2182    68.0\n",
       "4733    68.0\n",
       "4493    68.0\n",
       "4668    69.0\n",
       "3208    69.0\n",
       "2805    69.0\n",
       "4491    70.0\n",
       "4721    70.0\n",
       "4441    70.0\n",
       "2116    72.0\n",
       "4641    72.0\n",
       "2114    72.0\n",
       "1984    72.0\n",
       "4710    72.0\n",
       "4642    73.0\n",
       "4612    73.0\n",
       "2427    73.0\n",
       "4711    73.0\n",
       "3059    74.0\n",
       "465     74.0\n",
       "4014    74.0\n",
       "1029    75.0\n",
       "4746    75.0\n",
       "4265    75.0\n",
       "3281    75.0\n",
       "4646    75.0\n",
       "4767    75.0\n",
       "Name: runtime, dtype: float64"
      ]
     },
     "execution_count": 82,
     "metadata": {},
     "output_type": "execute_result"
    }
   ],
   "source": [
    "movies_selected.loc[:, \"runtime\"].sort_values().head(40) #check this has been completed successfully"
   ]
  },
  {
   "cell_type": "markdown",
   "metadata": {},
   "source": [
    "5. Impute the missing values in runtime with the median runtime using coalesce and save this into a new variable called movies_imputed. There should now be no missing values in the column runtime - check this to make sure."
   ]
  },
  {
   "cell_type": "code",
   "execution_count": 114,
   "metadata": {},
   "outputs": [],
   "source": [
    "movie_average_runtime = round(movies_selected[\"runtime\"].mean()) # create a variable of average runtime"
   ]
  },
  {
   "cell_type": "code",
   "execution_count": 115,
   "metadata": {},
   "outputs": [],
   "source": [
    "movies_selected[\"runtime\"] = movies_selected[\"runtime\"].replace(np.nan, movie_average_runtime)"
   ]
  },
  {
   "cell_type": "code",
   "execution_count": 85,
   "metadata": {},
   "outputs": [
    {
     "data": {
      "text/plain": [
       "0"
      ]
     },
     "execution_count": 85,
     "metadata": {},
     "output_type": "execute_result"
    }
   ],
   "source": [
    "movies_selected[\"runtime\"].isna().sum() # check this has completed successfully"
   ]
  },
  {
   "cell_type": "markdown",
   "metadata": {},
   "source": [
    "6. Finally, use the slice_min and slice_max functions on movies_imputed to get the movies with the 10 shortest and 10 longest runtimes."
   ]
  },
  {
   "cell_type": "code",
   "execution_count": 87,
   "metadata": {},
   "outputs": [
    {
     "data": {
      "text/html": [
       "<div>\n",
       "<style scoped>\n",
       "    .dataframe tbody tr th:only-of-type {\n",
       "        vertical-align: middle;\n",
       "    }\n",
       "\n",
       "    .dataframe tbody tr th {\n",
       "        vertical-align: top;\n",
       "    }\n",
       "\n",
       "    .dataframe thead th {\n",
       "        text-align: right;\n",
       "    }\n",
       "</style>\n",
       "<table border=\"1\" class=\"dataframe\">\n",
       "  <thead>\n",
       "    <tr style=\"text-align: right;\">\n",
       "      <th></th>\n",
       "      <th>title</th>\n",
       "      <th>budget</th>\n",
       "      <th>runtime</th>\n",
       "    </tr>\n",
       "  </thead>\n",
       "  <tbody>\n",
       "    <tr>\n",
       "      <th>2384</th>\n",
       "      <td>Carlos</td>\n",
       "      <td>18000000</td>\n",
       "      <td>338.0</td>\n",
       "    </tr>\n",
       "    <tr>\n",
       "      <th>2631</th>\n",
       "      <td>The Company</td>\n",
       "      <td>0</td>\n",
       "      <td>276.0</td>\n",
       "    </tr>\n",
       "    <tr>\n",
       "      <th>1922</th>\n",
       "      <td>Gettysburg</td>\n",
       "      <td>0</td>\n",
       "      <td>254.0</td>\n",
       "    </tr>\n",
       "    <tr>\n",
       "      <th>1125</th>\n",
       "      <td>Cleopatra</td>\n",
       "      <td>31115000</td>\n",
       "      <td>248.0</td>\n",
       "    </tr>\n",
       "    <tr>\n",
       "      <th>2373</th>\n",
       "      <td>Hamlet</td>\n",
       "      <td>0</td>\n",
       "      <td>242.0</td>\n",
       "    </tr>\n",
       "    <tr>\n",
       "      <th>3510</th>\n",
       "      <td>Emma</td>\n",
       "      <td>0</td>\n",
       "      <td>240.0</td>\n",
       "    </tr>\n",
       "    <tr>\n",
       "      <th>3813</th>\n",
       "      <td>Gone with the Wind</td>\n",
       "      <td>4000000</td>\n",
       "      <td>238.0</td>\n",
       "    </tr>\n",
       "    <tr>\n",
       "      <th>1663</th>\n",
       "      <td>Once Upon a Time in America</td>\n",
       "      <td>30000000</td>\n",
       "      <td>229.0</td>\n",
       "    </tr>\n",
       "    <tr>\n",
       "      <th>4497</th>\n",
       "      <td>Woodstock</td>\n",
       "      <td>600000</td>\n",
       "      <td>225.0</td>\n",
       "    </tr>\n",
       "    <tr>\n",
       "      <th>1109</th>\n",
       "      <td>Heaven's Gate</td>\n",
       "      <td>44000000</td>\n",
       "      <td>219.0</td>\n",
       "    </tr>\n",
       "  </tbody>\n",
       "</table>\n",
       "</div>"
      ],
      "text/plain": [
       "                            title    budget  runtime\n",
       "2384                       Carlos  18000000    338.0\n",
       "2631                  The Company         0    276.0\n",
       "1922                   Gettysburg         0    254.0\n",
       "1125                    Cleopatra  31115000    248.0\n",
       "2373                       Hamlet         0    242.0\n",
       "3510                         Emma         0    240.0\n",
       "3813           Gone with the Wind   4000000    238.0\n",
       "1663  Once Upon a Time in America  30000000    229.0\n",
       "4497                    Woodstock    600000    225.0\n",
       "1109                Heaven's Gate  44000000    219.0"
      ]
     },
     "execution_count": 87,
     "metadata": {},
     "output_type": "execute_result"
    }
   ],
   "source": [
    "movies_selected.nlargest(10, \"runtime\")"
   ]
  },
  {
   "cell_type": "code",
   "execution_count": 89,
   "metadata": {},
   "outputs": [
    {
     "data": {
      "text/html": [
       "<div>\n",
       "<style scoped>\n",
       "    .dataframe tbody tr th:only-of-type {\n",
       "        vertical-align: middle;\n",
       "    }\n",
       "\n",
       "    .dataframe tbody tr th {\n",
       "        vertical-align: top;\n",
       "    }\n",
       "\n",
       "    .dataframe thead th {\n",
       "        text-align: right;\n",
       "    }\n",
       "</style>\n",
       "<table border=\"1\" class=\"dataframe\">\n",
       "  <thead>\n",
       "    <tr style=\"text-align: right;\">\n",
       "      <th></th>\n",
       "      <th>title</th>\n",
       "      <th>budget</th>\n",
       "      <th>runtime</th>\n",
       "    </tr>\n",
       "  </thead>\n",
       "  <tbody>\n",
       "    <tr>\n",
       "      <th>4466</th>\n",
       "      <td>Vessel</td>\n",
       "      <td>0</td>\n",
       "      <td>14.0</td>\n",
       "    </tr>\n",
       "    <tr>\n",
       "      <th>4709</th>\n",
       "      <td>A Charlie Brown Christmas</td>\n",
       "      <td>0</td>\n",
       "      <td>25.0</td>\n",
       "    </tr>\n",
       "    <tr>\n",
       "      <th>3626</th>\n",
       "      <td>Sea Rex 3D: Journey to a Prehistoric World</td>\n",
       "      <td>5000000</td>\n",
       "      <td>41.0</td>\n",
       "    </tr>\n",
       "    <tr>\n",
       "      <th>3471</th>\n",
       "      <td>Dolphins and Whales: Tribes of the Ocean</td>\n",
       "      <td>6000000</td>\n",
       "      <td>42.0</td>\n",
       "    </tr>\n",
       "    <tr>\n",
       "      <th>3354</th>\n",
       "      <td>Michael Jordan to the Max</td>\n",
       "      <td>0</td>\n",
       "      <td>46.0</td>\n",
       "    </tr>\n",
       "    <tr>\n",
       "      <th>4756</th>\n",
       "      <td>The Call of Cthulhu</td>\n",
       "      <td>50000</td>\n",
       "      <td>47.0</td>\n",
       "    </tr>\n",
       "    <tr>\n",
       "      <th>3403</th>\n",
       "      <td>Alpha and Omega: The Legend of the Saw Tooth Cave</td>\n",
       "      <td>0</td>\n",
       "      <td>53.0</td>\n",
       "    </tr>\n",
       "    <tr>\n",
       "      <th>4685</th>\n",
       "      <td>The Case of the Grinning Cat</td>\n",
       "      <td>0</td>\n",
       "      <td>59.0</td>\n",
       "    </tr>\n",
       "    <tr>\n",
       "      <th>4785</th>\n",
       "      <td>Stories of Our Lives</td>\n",
       "      <td>0</td>\n",
       "      <td>60.0</td>\n",
       "    </tr>\n",
       "    <tr>\n",
       "      <th>1620</th>\n",
       "      <td>Winnie the Pooh</td>\n",
       "      <td>30000000</td>\n",
       "      <td>63.0</td>\n",
       "    </tr>\n",
       "  </tbody>\n",
       "</table>\n",
       "</div>"
      ],
      "text/plain": [
       "                                                  title    budget  runtime\n",
       "4466                                             Vessel         0     14.0\n",
       "4709                          A Charlie Brown Christmas         0     25.0\n",
       "3626         Sea Rex 3D: Journey to a Prehistoric World   5000000     41.0\n",
       "3471           Dolphins and Whales: Tribes of the Ocean   6000000     42.0\n",
       "3354                          Michael Jordan to the Max         0     46.0\n",
       "4756                                The Call of Cthulhu     50000     47.0\n",
       "3403  Alpha and Omega: The Legend of the Saw Tooth Cave         0     53.0\n",
       "4685                       The Case of the Grinning Cat         0     59.0\n",
       "4785                               Stories of Our Lives         0     60.0\n",
       "1620                                    Winnie the Pooh  30000000     63.0"
      ]
     },
     "execution_count": 89,
     "metadata": {},
     "output_type": "execute_result"
    }
   ],
   "source": [
    "movies_selected.nsmallest(10, \"runtime\")"
   ]
  },
  {
   "cell_type": "markdown",
   "metadata": {},
   "source": [
    "7. Using the if_else function, impute anything with a budget below $100 with the median budget. Overwrite your movies_imputed so it contains the new budget values."
   ]
  },
  {
   "cell_type": "code",
   "execution_count": 116,
   "metadata": {},
   "outputs": [],
   "source": [
    "movies_average_budget = round(movies_selected.budget.mean())"
   ]
  },
  {
   "cell_type": "code",
   "execution_count": 117,
   "metadata": {},
   "outputs": [
    {
     "data": {
      "text/plain": [
       "29045040"
      ]
     },
     "execution_count": 117,
     "metadata": {},
     "output_type": "execute_result"
    }
   ],
   "source": [
    "movies_average_budget"
   ]
  },
  {
   "cell_type": "code",
   "execution_count": 118,
   "metadata": {},
   "outputs": [],
   "source": [
    "movies_selected[\"budget\"] = np.where(movies_selected[\"budget\"] > 100, movies_selected[\"budget\"],  movies_average_budget)"
   ]
  },
  {
   "cell_type": "code",
   "execution_count": 119,
   "metadata": {},
   "outputs": [
    {
     "data": {
      "text/html": [
       "<div>\n",
       "<style scoped>\n",
       "    .dataframe tbody tr th:only-of-type {\n",
       "        vertical-align: middle;\n",
       "    }\n",
       "\n",
       "    .dataframe tbody tr th {\n",
       "        vertical-align: top;\n",
       "    }\n",
       "\n",
       "    .dataframe thead th {\n",
       "        text-align: right;\n",
       "    }\n",
       "</style>\n",
       "<table border=\"1\" class=\"dataframe\">\n",
       "  <thead>\n",
       "    <tr style=\"text-align: right;\">\n",
       "      <th></th>\n",
       "      <th>title</th>\n",
       "      <th>budget</th>\n",
       "      <th>runtime</th>\n",
       "    </tr>\n",
       "  </thead>\n",
       "  <tbody>\n",
       "    <tr>\n",
       "      <th>0</th>\n",
       "      <td>Avatar</td>\n",
       "      <td>237000000</td>\n",
       "      <td>162.0</td>\n",
       "    </tr>\n",
       "    <tr>\n",
       "      <th>1</th>\n",
       "      <td>Pirates of the Caribbean: At World's End</td>\n",
       "      <td>300000000</td>\n",
       "      <td>169.0</td>\n",
       "    </tr>\n",
       "    <tr>\n",
       "      <th>2</th>\n",
       "      <td>Spectre</td>\n",
       "      <td>245000000</td>\n",
       "      <td>148.0</td>\n",
       "    </tr>\n",
       "    <tr>\n",
       "      <th>3</th>\n",
       "      <td>The Dark Knight Rises</td>\n",
       "      <td>250000000</td>\n",
       "      <td>165.0</td>\n",
       "    </tr>\n",
       "    <tr>\n",
       "      <th>4</th>\n",
       "      <td>John Carter</td>\n",
       "      <td>260000000</td>\n",
       "      <td>132.0</td>\n",
       "    </tr>\n",
       "    <tr>\n",
       "      <th>...</th>\n",
       "      <td>...</td>\n",
       "      <td>...</td>\n",
       "      <td>...</td>\n",
       "    </tr>\n",
       "    <tr>\n",
       "      <th>4798</th>\n",
       "      <td>El Mariachi</td>\n",
       "      <td>220000</td>\n",
       "      <td>81.0</td>\n",
       "    </tr>\n",
       "    <tr>\n",
       "      <th>4799</th>\n",
       "      <td>Newlyweds</td>\n",
       "      <td>9000</td>\n",
       "      <td>85.0</td>\n",
       "    </tr>\n",
       "    <tr>\n",
       "      <th>4800</th>\n",
       "      <td>Signed, Sealed, Delivered</td>\n",
       "      <td>29045040</td>\n",
       "      <td>120.0</td>\n",
       "    </tr>\n",
       "    <tr>\n",
       "      <th>4801</th>\n",
       "      <td>Shanghai Calling</td>\n",
       "      <td>29045040</td>\n",
       "      <td>98.0</td>\n",
       "    </tr>\n",
       "    <tr>\n",
       "      <th>4802</th>\n",
       "      <td>My Date with Drew</td>\n",
       "      <td>29045040</td>\n",
       "      <td>90.0</td>\n",
       "    </tr>\n",
       "  </tbody>\n",
       "</table>\n",
       "<p>4803 rows × 3 columns</p>\n",
       "</div>"
      ],
      "text/plain": [
       "                                         title     budget  runtime\n",
       "0                                       Avatar  237000000    162.0\n",
       "1     Pirates of the Caribbean: At World's End  300000000    169.0\n",
       "2                                      Spectre  245000000    148.0\n",
       "3                        The Dark Knight Rises  250000000    165.0\n",
       "4                                  John Carter  260000000    132.0\n",
       "...                                        ...        ...      ...\n",
       "4798                               El Mariachi     220000     81.0\n",
       "4799                                 Newlyweds       9000     85.0\n",
       "4800                 Signed, Sealed, Delivered   29045040    120.0\n",
       "4801                          Shanghai Calling   29045040     98.0\n",
       "4802                         My Date with Drew   29045040     90.0\n",
       "\n",
       "[4803 rows x 3 columns]"
      ]
     },
     "execution_count": 119,
     "metadata": {},
     "output_type": "execute_result"
    }
   ],
   "source": [
    "movies_selected"
   ]
  },
  {
   "cell_type": "code",
   "execution_count": null,
   "metadata": {},
   "outputs": [],
   "source": []
  }
 ],
 "metadata": {
  "kernelspec": {
   "display_name": "Python 3",
   "language": "python",
   "name": "python3"
  },
  "language_info": {
   "codemirror_mode": {
    "name": "ipython",
    "version": 3
   },
   "file_extension": ".py",
   "mimetype": "text/x-python",
   "name": "python",
   "nbconvert_exporter": "python",
   "pygments_lexer": "ipython3",
   "version": "3.8.3"
  }
 },
 "nbformat": 4,
 "nbformat_minor": 4
}
